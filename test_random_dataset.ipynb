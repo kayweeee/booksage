{
 "cells": [
  {
   "cell_type": "code",
   "execution_count": 1,
   "metadata": {},
   "outputs": [],
   "source": [
    "\n",
    "import pandas as pd\n",
    "import re\n",
    "import nltk\n",
    "import spacy\n",
    "from tqdm import tqdm\n",
    "from textblob import TextBlob\n",
    "from collections import defaultdict\n",
    "from nltk.corpus import stopwords\n",
    "from nltk.tokenize import word_tokenize\n"
   ]
  },
  {
   "cell_type": "code",
   "execution_count": 2,
   "metadata": {},
   "outputs": [
    {
     "name": "stderr",
     "output_type": "stream",
     "text": [
      "[nltk_data] Downloading package stopwords to\n",
      "[nltk_data]     /home/kayweeee/nltk_data...\n",
      "[nltk_data]   Package stopwords is already up-to-date!\n"
     ]
    }
   ],
   "source": [
    "# Download stopwords\n",
    "nltk.download('stopwords')\n",
    "stop_words = set(stopwords.words('english'))\n",
    "\n",
    "# Load SpaCy model for sentence segmentation\n",
    "nlp = spacy.load(\"en_core_web_sm\")"
   ]
  },
  {
   "cell_type": "code",
   "execution_count": 3,
   "metadata": {},
   "outputs": [
    {
     "data": {
      "text/html": [
       "<div>\n",
       "<style scoped>\n",
       "    .dataframe tbody tr th:only-of-type {\n",
       "        vertical-align: middle;\n",
       "    }\n",
       "\n",
       "    .dataframe tbody tr th {\n",
       "        vertical-align: top;\n",
       "    }\n",
       "\n",
       "    .dataframe thead th {\n",
       "        text-align: right;\n",
       "    }\n",
       "</style>\n",
       "<table border=\"1\" class=\"dataframe\">\n",
       "  <thead>\n",
       "    <tr style=\"text-align: right;\">\n",
       "      <th></th>\n",
       "      <th>Unnamed: 0</th>\n",
       "      <th>Book</th>\n",
       "      <th>Review</th>\n",
       "      <th>Review Date</th>\n",
       "    </tr>\n",
       "  </thead>\n",
       "  <tbody>\n",
       "    <tr>\n",
       "      <th>0</th>\n",
       "      <td>0</td>\n",
       "      <td>To Kill a Mockingbird</td>\n",
       "      <td>/// gentle reminder that this is not the time ...</td>\n",
       "      <td>March 24, 2022</td>\n",
       "    </tr>\n",
       "    <tr>\n",
       "      <th>1</th>\n",
       "      <td>1</td>\n",
       "      <td>To Kill a Mockingbird</td>\n",
       "      <td>\\n|\\n|6.0 stars. I know I am risking a serious...</td>\n",
       "      <td>May 24, 2011</td>\n",
       "    </tr>\n",
       "    <tr>\n",
       "      <th>2</th>\n",
       "      <td>2</td>\n",
       "      <td>To Kill a Mockingbird</td>\n",
       "      <td>\\n|\\n|Looking for a new book but don't want to...</td>\n",
       "      <td>December 10, 2020</td>\n",
       "    </tr>\n",
       "    <tr>\n",
       "      <th>3</th>\n",
       "      <td>3</td>\n",
       "      <td>To Kill a Mockingbird</td>\n",
       "      <td>To Kill a Mockingbird, Harper Lee|To Kill a Mo...</td>\n",
       "      <td>July 1, 2022</td>\n",
       "    </tr>\n",
       "    <tr>\n",
       "      <th>4</th>\n",
       "      <td>4</td>\n",
       "      <td>To Kill a Mockingbird</td>\n",
       "      <td>Why is it when I pick up | To Kill A Mockingbi...</td>\n",
       "      <td>October 25, 2009</td>\n",
       "    </tr>\n",
       "  </tbody>\n",
       "</table>\n",
       "</div>"
      ],
      "text/plain": [
       "   Unnamed: 0                   Book  \\\n",
       "0           0  To Kill a Mockingbird   \n",
       "1           1  To Kill a Mockingbird   \n",
       "2           2  To Kill a Mockingbird   \n",
       "3           3  To Kill a Mockingbird   \n",
       "4           4  To Kill a Mockingbird   \n",
       "\n",
       "                                              Review        Review Date  \n",
       "0  /// gentle reminder that this is not the time ...     March 24, 2022  \n",
       "1  \\n|\\n|6.0 stars. I know I am risking a serious...       May 24, 2011  \n",
       "2  \\n|\\n|Looking for a new book but don't want to...  December 10, 2020  \n",
       "3  To Kill a Mockingbird, Harper Lee|To Kill a Mo...       July 1, 2022  \n",
       "4  Why is it when I pick up | To Kill A Mockingbi...   October 25, 2009  "
      ]
     },
     "execution_count": 3,
     "metadata": {},
     "output_type": "execute_result"
    }
   ],
   "source": [
    "# Load dataset\n",
    "df = pd.read_csv(\"Book Reviews.csv\")\n",
    "\n",
    "# Display dataset\n",
    "df.head()"
   ]
  },
  {
   "cell_type": "code",
   "execution_count": 4,
   "metadata": {},
   "outputs": [
    {
     "data": {
      "text/plain": [
       "Unnamed: 0      int64\n",
       "Book           object\n",
       "Review         object\n",
       "Review Date    object\n",
       "dtype: object"
      ]
     },
     "execution_count": 4,
     "metadata": {},
     "output_type": "execute_result"
    }
   ],
   "source": [
    "df.dtypes"
   ]
  },
  {
   "cell_type": "code",
   "execution_count": 5,
   "metadata": {},
   "outputs": [
    {
     "data": {
      "text/plain": [
       "(32081, 4)"
      ]
     },
     "execution_count": 5,
     "metadata": {},
     "output_type": "execute_result"
    }
   ],
   "source": [
    "df.shape"
   ]
  },
  {
   "cell_type": "code",
   "execution_count": 6,
   "metadata": {},
   "outputs": [
    {
     "data": {
      "text/plain": [
       "Book                   object\n",
       "Review                 object\n",
       "Review Date    datetime64[ns]\n",
       "dtype: object"
      ]
     },
     "execution_count": 6,
     "metadata": {},
     "output_type": "execute_result"
    }
   ],
   "source": [
    "df = df.drop(columns=['Unnamed: 0'])\n",
    "\n",
    "df['Review Date'] = pd.to_datetime(df['Review Date'], errors='coerce')\n",
    "\n",
    "df.dtypes"
   ]
  },
  {
   "cell_type": "code",
   "execution_count": 7,
   "metadata": {},
   "outputs": [
    {
     "name": "stdout",
     "output_type": "stream",
     "text": [
      "Dataset shape after dropping empty values: (31772, 3)\n"
     ]
    }
   ],
   "source": [
    "df = df.dropna(subset=['Book', 'Review'])\n",
    "\n",
    "print(f\"Dataset shape after dropping empty values: {df.shape}\")"
   ]
  },
  {
   "cell_type": "code",
   "execution_count": 8,
   "metadata": {},
   "outputs": [
    {
     "data": {
      "text/html": [
       "<div>\n",
       "<style scoped>\n",
       "    .dataframe tbody tr th:only-of-type {\n",
       "        vertical-align: middle;\n",
       "    }\n",
       "\n",
       "    .dataframe tbody tr th {\n",
       "        vertical-align: top;\n",
       "    }\n",
       "\n",
       "    .dataframe thead th {\n",
       "        text-align: right;\n",
       "    }\n",
       "</style>\n",
       "<table border=\"1\" class=\"dataframe\">\n",
       "  <thead>\n",
       "    <tr style=\"text-align: right;\">\n",
       "      <th></th>\n",
       "      <th>Review</th>\n",
       "      <th>cleaned_review</th>\n",
       "    </tr>\n",
       "  </thead>\n",
       "  <tbody>\n",
       "    <tr>\n",
       "      <th>13642</th>\n",
       "      <td>A classic.|Sometimes classic is good.| | |Some...</td>\n",
       "      <td>a classic. sometimes classic is good. sometime...</td>\n",
       "    </tr>\n",
       "    <tr>\n",
       "      <th>28380</th>\n",
       "      <td>Not as complete or as beautiful as \"Passing\", ...</td>\n",
       "      <td>not as complete or as beautiful as passing , t...</td>\n",
       "    </tr>\n",
       "    <tr>\n",
       "      <th>25030</th>\n",
       "      <td>The hardest thing about reading a Don Delillo ...</td>\n",
       "      <td>the hardest thing about reading a don delillo ...</td>\n",
       "    </tr>\n",
       "    <tr>\n",
       "      <th>18276</th>\n",
       "      <td>I FINISHED A BOOK!!|if school books even count...</td>\n",
       "      <td>i finished a book!! if school books even count...</td>\n",
       "    </tr>\n",
       "    <tr>\n",
       "      <th>5970</th>\n",
       "      <td>Дуже переоцінена книжка, де багато пафосу, шаб...</td>\n",
       "      <td>, , , . , , , . , , . , , . , . , , . , , . . ...</td>\n",
       "    </tr>\n",
       "    <tr>\n",
       "      <th>31618</th>\n",
       "      <td>Another beautifully written novel by Graham Sw...</td>\n",
       "      <td>another beautifully written novel by graham sw...</td>\n",
       "    </tr>\n",
       "    <tr>\n",
       "      <th>1208</th>\n",
       "      <td>All the stars! Sherlock Holmes is at his inscr...</td>\n",
       "      <td>all the stars! sherlock holmes is at his inscr...</td>\n",
       "    </tr>\n",
       "    <tr>\n",
       "      <th>26358</th>\n",
       "      <td>Toch wel verbluft door de inventiviteit van di...</td>\n",
       "      <td>toch wel verbluft door de inventiviteit van di...</td>\n",
       "    </tr>\n",
       "    <tr>\n",
       "      <th>1844</th>\n",
       "      <td>The book is clearly structured. Also the choic...</td>\n",
       "      <td>the book is clearly structured. also the choic...</td>\n",
       "    </tr>\n",
       "    <tr>\n",
       "      <th>28252</th>\n",
       "      <td>Φτώχεια, εξαθλίωση, πείνα, βρώμα, πολύ βρώμα, ...</td>\n",
       "      <td>, , , , , , , , , . . .</td>\n",
       "    </tr>\n",
       "  </tbody>\n",
       "</table>\n",
       "</div>"
      ],
      "text/plain": [
       "                                                  Review  \\\n",
       "13642  A classic.|Sometimes classic is good.| | |Some...   \n",
       "28380  Not as complete or as beautiful as \"Passing\", ...   \n",
       "25030  The hardest thing about reading a Don Delillo ...   \n",
       "18276  I FINISHED A BOOK!!|if school books even count...   \n",
       "5970   Дуже переоцінена книжка, де багато пафосу, шаб...   \n",
       "31618  Another beautifully written novel by Graham Sw...   \n",
       "1208   All the stars! Sherlock Holmes is at his inscr...   \n",
       "26358  Toch wel verbluft door de inventiviteit van di...   \n",
       "1844   The book is clearly structured. Also the choic...   \n",
       "28252  Φτώχεια, εξαθλίωση, πείνα, βρώμα, πολύ βρώμα, ...   \n",
       "\n",
       "                                          cleaned_review  \n",
       "13642  a classic. sometimes classic is good. sometime...  \n",
       "28380  not as complete or as beautiful as passing , t...  \n",
       "25030  the hardest thing about reading a don delillo ...  \n",
       "18276  i finished a book!! if school books even count...  \n",
       "5970   , , , . , , , . , , . , , . , . , , . , , . . ...  \n",
       "31618  another beautifully written novel by graham sw...  \n",
       "1208   all the stars! sherlock holmes is at his inscr...  \n",
       "26358  toch wel verbluft door de inventiviteit van di...  \n",
       "1844   the book is clearly structured. also the choic...  \n",
       "28252                            , , , , , , , , , . . .  "
      ]
     },
     "execution_count": 8,
     "metadata": {},
     "output_type": "execute_result"
    }
   ],
   "source": [
    "import string\n",
    "import contractions\n",
    "\n",
    "def clean_text(text):\n",
    "    if not isinstance(text, str):\n",
    "        return \"\"\n",
    "\n",
    "    # Convert to lowercase\n",
    "    text = text.lower()\n",
    "\n",
    "    # Expand contractions (e.g., \"isn't\" -> \"is not\")\n",
    "    text = contractions.fix(text)\n",
    "\n",
    "    # Remove unwanted special characters (but keep !, ?, and . for sentiment)\n",
    "    text = re.sub(r\"[^a-zA-Z0-9\\s!?.,]\", \" \", text)\n",
    "\n",
    "    # Remove extra whitespaces\n",
    "    text = re.sub(r\"\\s+\", \" \", text).strip()\n",
    "\n",
    "    return text\n",
    "\n",
    "df['cleaned_review'] = df['Review'].astype(str).apply(clean_text)\n",
    "\n",
    "df[['Review', 'cleaned_review']].sample(10)\n"
   ]
  },
  {
   "cell_type": "code",
   "execution_count": 9,
   "metadata": {},
   "outputs": [],
   "source": [
    "from langdetect import detect\n",
    "from langdetect.lang_detect_exception import LangDetectException\n",
    "\n",
    "def detect_language(text):\n",
    "    try:\n",
    "        return detect(text)\n",
    "    except LangDetectException:\n",
    "        return \"unknown\"\n",
    "\n",
    "# Detect language\n",
    "df['language'] = df['Review'].astype(str).apply(detect_language)"
   ]
  },
  {
   "cell_type": "code",
   "execution_count": 10,
   "metadata": {},
   "outputs": [
    {
     "data": {
      "text/html": [
       "<div>\n",
       "<style scoped>\n",
       "    .dataframe tbody tr th:only-of-type {\n",
       "        vertical-align: middle;\n",
       "    }\n",
       "\n",
       "    .dataframe tbody tr th {\n",
       "        vertical-align: top;\n",
       "    }\n",
       "\n",
       "    .dataframe thead th {\n",
       "        text-align: right;\n",
       "    }\n",
       "</style>\n",
       "<table border=\"1\" class=\"dataframe\">\n",
       "  <thead>\n",
       "    <tr style=\"text-align: right;\">\n",
       "      <th></th>\n",
       "      <th>Review</th>\n",
       "      <th>cleaned_review</th>\n",
       "      <th>language</th>\n",
       "    </tr>\n",
       "  </thead>\n",
       "  <tbody>\n",
       "    <tr>\n",
       "      <th>8341</th>\n",
       "      <td>I hate to resort to crude Americanisms, but Al...</td>\n",
       "      <td>i hate to resort to crude americanisms, but al...</td>\n",
       "      <td>en</td>\n",
       "    </tr>\n",
       "    <tr>\n",
       "      <th>27618</th>\n",
       "      <td>watermelon sugar HIGH mesmo, pq só estando mt ...</td>\n",
       "      <td>watermelon sugar high mesmo, pq s estando mt d...</td>\n",
       "      <td>pt</td>\n",
       "    </tr>\n",
       "    <tr>\n",
       "      <th>24369</th>\n",
       "      <td>I picked this up at the library book sale 8 or...</td>\n",
       "      <td>i picked this up at the library book sale 8 or...</td>\n",
       "      <td>en</td>\n",
       "    </tr>\n",
       "    <tr>\n",
       "      <th>12028</th>\n",
       "      <td>\"It is only a novel... or, in short, only some...</td>\n",
       "      <td>it is only a novel... or, in short, only some ...</td>\n",
       "      <td>en</td>\n",
       "    </tr>\n",
       "    <tr>\n",
       "      <th>6207</th>\n",
       "      <td>\\n|“You are You, that was what was written.”|\\...</td>\n",
       "      <td>you are you, that was what was written. for th...</td>\n",
       "      <td>en</td>\n",
       "    </tr>\n",
       "    <tr>\n",
       "      <th>2775</th>\n",
       "      <td>Een symbolisch verhaal over verlies en verlang...</td>\n",
       "      <td>een symbolisch verhaal over verlies en verlang...</td>\n",
       "      <td>nl</td>\n",
       "    </tr>\n",
       "    <tr>\n",
       "      <th>13016</th>\n",
       "      <td>“|Father is close, Mother is close, but neithe...</td>\n",
       "      <td>father is close, mother is close, but neither ...</td>\n",
       "      <td>en</td>\n",
       "    </tr>\n",
       "    <tr>\n",
       "      <th>22000</th>\n",
       "      <td>Totally charming and remarkably deep little bo...</td>\n",
       "      <td>totally charming and remarkably deep little bo...</td>\n",
       "      <td>en</td>\n",
       "    </tr>\n",
       "    <tr>\n",
       "      <th>29930</th>\n",
       "      <td>This book is gross. Sexist. Fucked up.|I also ...</td>\n",
       "      <td>this book is gross. sexist. fucked up. i also ...</td>\n",
       "      <td>en</td>\n",
       "    </tr>\n",
       "    <tr>\n",
       "      <th>7293</th>\n",
       "      <td>مارگریت دوراس جایی گفته بود «دوراسی وجود ندارد...</td>\n",
       "      <td>. . . . . . . . . . https avangard.ir article 313</td>\n",
       "      <td>fa</td>\n",
       "    </tr>\n",
       "    <tr>\n",
       "      <th>18834</th>\n",
       "      <td>What if I could be someone else? | |Crossing b...</td>\n",
       "      <td>what if i could be someone else? crossing bord...</td>\n",
       "      <td>en</td>\n",
       "    </tr>\n",
       "    <tr>\n",
       "      <th>8820</th>\n",
       "      <td>Real Rating: 4.25* of five|Damn me if this isn...</td>\n",
       "      <td>real rating 4.25 of five damn me if this is no...</td>\n",
       "      <td>en</td>\n",
       "    </tr>\n",
       "    <tr>\n",
       "      <th>1440</th>\n",
       "      <td>Oliver Twist THE BOOK is crap and has NO songs...</td>\n",
       "      <td>oliver twist the book is crap and has no songs...</td>\n",
       "      <td>en</td>\n",
       "    </tr>\n",
       "    <tr>\n",
       "      <th>20188</th>\n",
       "      <td>Spiralling into an end-of-summer reading and v...</td>\n",
       "      <td>spiralling into an end of summer reading and v...</td>\n",
       "      <td>en</td>\n",
       "    </tr>\n",
       "    <tr>\n",
       "      <th>6493</th>\n",
       "      <td>In middle school you were probably assigned so...</td>\n",
       "      <td>in middle school you were probably assigned so...</td>\n",
       "      <td>en</td>\n",
       "    </tr>\n",
       "    <tr>\n",
       "      <th>31857</th>\n",
       "      <td>Me ha encantado el argumento a pesar de su dur...</td>\n",
       "      <td>me ha encantado el argumento a pesar de su dur...</td>\n",
       "      <td>es</td>\n",
       "    </tr>\n",
       "    <tr>\n",
       "      <th>3738</th>\n",
       "      <td>Turns out that crap Rushdie is still quite good.</td>\n",
       "      <td>turns out that crap rushdie is still quite good.</td>\n",
       "      <td>en</td>\n",
       "    </tr>\n",
       "    <tr>\n",
       "      <th>510</th>\n",
       "      <td>\\n|\\n|“There was a long hard time when I kept ...</td>\n",
       "      <td>there was a long hard time when i kept far fro...</td>\n",
       "      <td>en</td>\n",
       "    </tr>\n",
       "    <tr>\n",
       "      <th>9152</th>\n",
       "      <td>This book was not easy to like. It is stark an...</td>\n",
       "      <td>this book was not easy to like. it is stark an...</td>\n",
       "      <td>en</td>\n",
       "    </tr>\n",
       "    <tr>\n",
       "      <th>7725</th>\n",
       "      <td>I started to read William Trevor’s books in th...</td>\n",
       "      <td>i started to read william trevor s books in th...</td>\n",
       "      <td>en</td>\n",
       "    </tr>\n",
       "  </tbody>\n",
       "</table>\n",
       "</div>"
      ],
      "text/plain": [
       "                                                  Review  \\\n",
       "8341   I hate to resort to crude Americanisms, but Al...   \n",
       "27618  watermelon sugar HIGH mesmo, pq só estando mt ...   \n",
       "24369  I picked this up at the library book sale 8 or...   \n",
       "12028  \"It is only a novel... or, in short, only some...   \n",
       "6207   \\n|“You are You, that was what was written.”|\\...   \n",
       "2775   Een symbolisch verhaal over verlies en verlang...   \n",
       "13016  “|Father is close, Mother is close, but neithe...   \n",
       "22000  Totally charming and remarkably deep little bo...   \n",
       "29930  This book is gross. Sexist. Fucked up.|I also ...   \n",
       "7293   مارگریت دوراس جایی گفته بود «دوراسی وجود ندارد...   \n",
       "18834  What if I could be someone else? | |Crossing b...   \n",
       "8820   Real Rating: 4.25* of five|Damn me if this isn...   \n",
       "1440   Oliver Twist THE BOOK is crap and has NO songs...   \n",
       "20188  Spiralling into an end-of-summer reading and v...   \n",
       "6493   In middle school you were probably assigned so...   \n",
       "31857  Me ha encantado el argumento a pesar de su dur...   \n",
       "3738    Turns out that crap Rushdie is still quite good.   \n",
       "510    \\n|\\n|“There was a long hard time when I kept ...   \n",
       "9152   This book was not easy to like. It is stark an...   \n",
       "7725   I started to read William Trevor’s books in th...   \n",
       "\n",
       "                                          cleaned_review language  \n",
       "8341   i hate to resort to crude americanisms, but al...       en  \n",
       "27618  watermelon sugar high mesmo, pq s estando mt d...       pt  \n",
       "24369  i picked this up at the library book sale 8 or...       en  \n",
       "12028  it is only a novel... or, in short, only some ...       en  \n",
       "6207   you are you, that was what was written. for th...       en  \n",
       "2775   een symbolisch verhaal over verlies en verlang...       nl  \n",
       "13016  father is close, mother is close, but neither ...       en  \n",
       "22000  totally charming and remarkably deep little bo...       en  \n",
       "29930  this book is gross. sexist. fucked up. i also ...       en  \n",
       "7293   . . . . . . . . . . https avangard.ir article 313       fa  \n",
       "18834  what if i could be someone else? crossing bord...       en  \n",
       "8820   real rating 4.25 of five damn me if this is no...       en  \n",
       "1440   oliver twist the book is crap and has no songs...       en  \n",
       "20188  spiralling into an end of summer reading and v...       en  \n",
       "6493   in middle school you were probably assigned so...       en  \n",
       "31857  me ha encantado el argumento a pesar de su dur...       es  \n",
       "3738    turns out that crap rushdie is still quite good.       en  \n",
       "510    there was a long hard time when i kept far fro...       en  \n",
       "9152   this book was not easy to like. it is stark an...       en  \n",
       "7725   i started to read william trevor s books in th...       en  "
      ]
     },
     "execution_count": 10,
     "metadata": {},
     "output_type": "execute_result"
    }
   ],
   "source": [
    "df[['Review', 'cleaned_review', 'language']].sample(20)"
   ]
  },
  {
   "cell_type": "code",
   "execution_count": 11,
   "metadata": {},
   "outputs": [
    {
     "name": "stdout",
     "output_type": "stream",
     "text": [
      "Dataset shape after removing non-English reviews: (23041, 4)\n"
     ]
    }
   ],
   "source": [
    "# Keep only English reviews\n",
    "df = df[df['language'] == 'en']\n",
    "\n",
    "df = df.drop(columns=['language'])\n",
    "\n",
    "print(f\"Dataset shape after removing non-English reviews: {df.shape}\")"
   ]
  },
  {
   "cell_type": "code",
   "execution_count": 12,
   "metadata": {},
   "outputs": [
    {
     "data": {
      "text/html": [
       "<div>\n",
       "<style scoped>\n",
       "    .dataframe tbody tr th:only-of-type {\n",
       "        vertical-align: middle;\n",
       "    }\n",
       "\n",
       "    .dataframe tbody tr th {\n",
       "        vertical-align: top;\n",
       "    }\n",
       "\n",
       "    .dataframe thead th {\n",
       "        text-align: right;\n",
       "    }\n",
       "</style>\n",
       "<table border=\"1\" class=\"dataframe\">\n",
       "  <thead>\n",
       "    <tr style=\"text-align: right;\">\n",
       "      <th></th>\n",
       "      <th>Review</th>\n",
       "      <th>sentences</th>\n",
       "    </tr>\n",
       "  </thead>\n",
       "  <tbody>\n",
       "    <tr>\n",
       "      <th>16624</th>\n",
       "      <td>Part 1 = Amazing. Part 2 and 3 = Is this book ...</td>\n",
       "      <td>[part 1 amazing., part 2 and 3 is this book ov...</td>\n",
       "    </tr>\n",
       "    <tr>\n",
       "      <th>843</th>\n",
       "      <td>\"Who you think you is? he say. You can't curse...</td>\n",
       "      <td>[who you think you is?, he say., you cannot cu...</td>\n",
       "    </tr>\n",
       "    <tr>\n",
       "      <th>28356</th>\n",
       "      <td>I cannot stand this book. It may be technicall...</td>\n",
       "      <td>[i cannot stand this book., it may be technica...</td>\n",
       "    </tr>\n",
       "    <tr>\n",
       "      <th>8206</th>\n",
       "      <td>Everything I need to know about French history...</td>\n",
       "      <td>[everything i need to know about french histor...</td>\n",
       "    </tr>\n",
       "    <tr>\n",
       "      <th>25809</th>\n",
       "      <td>The plot is sparse: the narrator is a visiting...</td>\n",
       "      <td>[the plot is sparse the narrator is a visiting...</td>\n",
       "    </tr>\n",
       "  </tbody>\n",
       "</table>\n",
       "</div>"
      ],
      "text/plain": [
       "                                                  Review  \\\n",
       "16624  Part 1 = Amazing. Part 2 and 3 = Is this book ...   \n",
       "843    \"Who you think you is? he say. You can't curse...   \n",
       "28356  I cannot stand this book. It may be technicall...   \n",
       "8206   Everything I need to know about French history...   \n",
       "25809  The plot is sparse: the narrator is a visiting...   \n",
       "\n",
       "                                               sentences  \n",
       "16624  [part 1 amazing., part 2 and 3 is this book ov...  \n",
       "843    [who you think you is?, he say., you cannot cu...  \n",
       "28356  [i cannot stand this book., it may be technica...  \n",
       "8206   [everything i need to know about french histor...  \n",
       "25809  [the plot is sparse the narrator is a visiting...  "
      ]
     },
     "execution_count": 12,
     "metadata": {},
     "output_type": "execute_result"
    }
   ],
   "source": [
    "def split_into_sentences(text):\n",
    "    doc = nlp(text)\n",
    "    sentences = [sent.text.strip() for sent in doc.sents]\n",
    "    return sentences\n",
    "\n",
    "# Apply preprocessing and sentence segmentation\n",
    "df['sentences'] = df['cleaned_review'].apply(split_into_sentences)\n",
    "# Remove sentences less than 3 words\n",
    "\n",
    "# Display example segmented sentences\n",
    "df[['Review', 'sentences']].sample(5)"
   ]
  },
  {
   "cell_type": "code",
   "execution_count": 33,
   "metadata": {},
   "outputs": [
    {
     "data": {
      "text/plain": [
       "Book                      object\n",
       "Review                    object\n",
       "Review Date       datetime64[ns]\n",
       "cleaned_review            object\n",
       "sentences                 object\n",
       "dtype: object"
      ]
     },
     "execution_count": 33,
     "metadata": {},
     "output_type": "execute_result"
    }
   ],
   "source": [
    "df.dtypes"
   ]
  },
  {
   "cell_type": "code",
   "execution_count": 13,
   "metadata": {},
   "outputs": [],
   "source": [
    "# Save the cleaned dataset\n",
    "df.to_csv(\"cleaned_book_reviews.csv\", index=False)"
   ]
  },
  {
   "cell_type": "markdown",
   "metadata": {},
   "source": [
    "# Data Visualization"
   ]
  },
  {
   "cell_type": "code",
   "execution_count": 1,
   "metadata": {},
   "outputs": [],
   "source": [
    "import ast\n",
    "import pandas as pd\n",
    "\n",
    "df_reviews = pd.read_csv(\"cleaned_book_reviews.csv\")\n",
    "\n",
    "# Convert the 'sentences' column back to a list format\n",
    "df_reviews['sentences'] = df_reviews['sentences'].apply(ast.literal_eval)\n"
   ]
  },
  {
   "cell_type": "code",
   "execution_count": 3,
   "metadata": {},
   "outputs": [],
   "source": [
    "from huggingface_hub import login\n",
    "\n",
    "# Enter your token here\n",
    "huggingface_token = \"\"\n",
    "\n",
    "# Authenticate with Hugging Face\n",
    "login(token=huggingface_token)\n",
    "\n"
   ]
  },
  {
   "cell_type": "code",
   "execution_count": 1,
   "metadata": {},
   "outputs": [
    {
     "name": "stdout",
     "output_type": "stream",
     "text": [
      "Total RAM: 8.20 GB\n",
      "Available RAM: 4.82 GB\n"
     ]
    }
   ],
   "source": [
    "import psutil\n",
    "\n",
    "# Get total, available, and used memory\n",
    "total_memory = psutil.virtual_memory().total / 1e9  # Convert to GB\n",
    "available_memory = psutil.virtual_memory().available / 1e9  # Convert to GB\n",
    "\n",
    "print(f\"Total RAM: {total_memory:.2f} GB\")\n",
    "print(f\"Available RAM: {available_memory:.2f} GB\")\n"
   ]
  },
  {
   "cell_type": "code",
   "execution_count": 2,
   "metadata": {},
   "outputs": [
    {
     "data": {
      "application/vnd.jupyter.widget-view+json": {
       "model_id": "edba307748184ff1903bbb7c28b7ef41",
       "version_major": 2,
       "version_minor": 0
      },
      "text/plain": [
       "tokenizer_config.json:   0%|          | 0.00/2.54k [00:00<?, ?B/s]"
      ]
     },
     "metadata": {},
     "output_type": "display_data"
    },
    {
     "data": {
      "application/vnd.jupyter.widget-view+json": {
       "model_id": "8299ab17cb154469b5ef13cf3c72df8c",
       "version_major": 2,
       "version_minor": 0
      },
      "text/plain": [
       "spiece.model:   0%|          | 0.00/792k [00:00<?, ?B/s]"
      ]
     },
     "metadata": {},
     "output_type": "display_data"
    },
    {
     "data": {
      "application/vnd.jupyter.widget-view+json": {
       "model_id": "822b4f8ccb614de4be0aee15bfec2eed",
       "version_major": 2,
       "version_minor": 0
      },
      "text/plain": [
       "tokenizer.json:   0%|          | 0.00/2.42M [00:00<?, ?B/s]"
      ]
     },
     "metadata": {},
     "output_type": "display_data"
    },
    {
     "data": {
      "application/vnd.jupyter.widget-view+json": {
       "model_id": "20b085a684aa489380c7db19a1b033db",
       "version_major": 2,
       "version_minor": 0
      },
      "text/plain": [
       "special_tokens_map.json:   0%|          | 0.00/2.20k [00:00<?, ?B/s]"
      ]
     },
     "metadata": {},
     "output_type": "display_data"
    },
    {
     "data": {
      "application/vnd.jupyter.widget-view+json": {
       "model_id": "7121158799634fe483f7acc4351689db",
       "version_major": 2,
       "version_minor": 0
      },
      "text/plain": [
       "config.json:   0%|          | 0.00/1.40k [00:00<?, ?B/s]"
      ]
     },
     "metadata": {},
     "output_type": "display_data"
    },
    {
     "data": {
      "application/vnd.jupyter.widget-view+json": {
       "model_id": "6c45b802866641e0bd61a2d475ac397b",
       "version_major": 2,
       "version_minor": 0
      },
      "text/plain": [
       "model.safetensors:   0%|          | 0.00/308M [00:00<?, ?B/s]"
      ]
     },
     "metadata": {},
     "output_type": "display_data"
    },
    {
     "data": {
      "application/vnd.jupyter.widget-view+json": {
       "model_id": "5dc8ad19babe4253965f6485b786ca1c",
       "version_major": 2,
       "version_minor": 0
      },
      "text/plain": [
       "generation_config.json:   0%|          | 0.00/147 [00:00<?, ?B/s]"
      ]
     },
     "metadata": {},
     "output_type": "display_data"
    },
    {
     "name": "stderr",
     "output_type": "stream",
     "text": [
      "Device set to use cpu\n"
     ]
    },
    {
     "name": "stdout",
     "output_type": "stream",
     "text": [
      "The plot was a bit slow but the pace was a bit slow.\n"
     ]
    }
   ],
   "source": [
    "from transformers import AutoModelForSeq2SeqLM, AutoTokenizer, pipeline\n",
    "\n",
    "# Use a lightweight model that fits in RAM\n",
    "model_name = \"google/flan-t5-small\"\n",
    "tokenizer = AutoTokenizer.from_pretrained(model_name)\n",
    "model = AutoModelForSeq2SeqLM.from_pretrained(model_name)\n",
    "\n",
    "# Set up pipeline\n",
    "llm_pipeline = pipeline(\"text2text-generation\", model=model, tokenizer=tokenizer)\n",
    "\n",
    "# Test aspect extraction\n",
    "prompt = \"Extract key aspects from this book review: 'The plot was thrilling but the pacing was too slow.'\"\n",
    "response = llm_pipeline(prompt)\n",
    "\n",
    "print(response[0][\"generated_text\"])\n"
   ]
  },
  {
   "cell_type": "code",
   "execution_count": 29,
   "metadata": {},
   "outputs": [
    {
     "name": "stderr",
     "output_type": "stream",
     "text": [
      "[nltk_data] Downloading package stopwords to\n",
      "[nltk_data]     /home/kayweeee/nltk_data...\n",
      "[nltk_data]   Package stopwords is already up-to-date!\n"
     ]
    }
   ],
   "source": [
    "import spacy\n",
    "import nltk\n",
    "from nltk.corpus import stopwords\n",
    "\n",
    "# Load SpaCy NLP model\n",
    "nlp = spacy.load(\"en_core_web_sm\")\n",
    "\n",
    "# Download stopwords if not already present\n",
    "nltk.download(\"stopwords\")\n",
    "stop_words = set(stopwords.words(\"english\"))\n",
    "\n",
    "def extract_aspects_advanced(text):\n",
    "    \"\"\"Extract aspects using dependency parsing, filtering, and Named Entity Recognition (NER).\"\"\"\n",
    "    doc = nlp(text)\n",
    "    aspects = []\n",
    "\n",
    "    for token in doc:\n",
    "        # Extract meaningful nouns (subjects, objects)\n",
    "        if token.pos_ in (\"NOUN\", \"PROPN\") and token.dep_ in (\"nsubj\", \"dobj\", \"pobj\"):\n",
    "            if token.text.lower() not in stop_words and len(token.text) > 2:\n",
    "                aspects.append(token.text.lower())\n",
    "\n",
    "    # Add Named Entities (useful for book titles, author names, etc.)\n",
    "    for ent in doc.ents:\n",
    "        if ent.label_ in [\"ORG\", \"PRODUCT\", \"WORK_OF_ART\", \"PERSON\"]:\n",
    "            aspects.append(ent.text.lower())\n",
    "\n",
    "    return list(set(aspects))  # Remove duplicates\n"
   ]
  },
  {
   "cell_type": "code",
   "execution_count": null,
   "metadata": {},
   "outputs": [
    {
     "name": "stdout",
     "output_type": "stream",
     "text": [
      "\n",
      "Filtered Extracted Aspects from Sample Review:\n",
      "\n",
      "                                                                                                                                                                                                                                       Sentence    Extracted Aspect\n",
      "                                                                                                                with endless books and infinitely more to be written in the future, it is rare occasion that i take the time to reread a novel.               novel\n",
      "                                                                                                                with endless books and infinitely more to be written in the future, it is rare occasion that i take the time to reread a novel.              future\n",
      "                                                                                                                with endless books and infinitely more to be written in the future, it is rare occasion that i take the time to reread a novel.                time\n",
      "                                                                                                                with endless books and infinitely more to be written in the future, it is rare occasion that i take the time to reread a novel.               books\n",
      "                                                                                                    as women s history month is upon us 2019 , i have kept revising my monthly lineup to feature books by remarkable women across the spectrum.               women\n",
      "                                                                                                    as women s history month is upon us 2019 , i have kept revising my monthly lineup to feature books by remarkable women across the spectrum.              lineup\n",
      "                                                                                                    as women s history month is upon us 2019 , i have kept revising my monthly lineup to feature books by remarkable women across the spectrum.               month\n",
      "                                                                                                    as women s history month is upon us 2019 , i have kept revising my monthly lineup to feature books by remarkable women across the spectrum.            spectrum\n",
      "                                                                                                    as women s history month is upon us 2019 , i have kept revising my monthly lineup to feature books by remarkable women across the spectrum.               books\n",
      "                                                                                                                                                         yet, none of these nonfiction books pay homage to the writers of the books themselves.              homage\n",
      "                                                                                                                                                         yet, none of these nonfiction books pay homage to the writers of the books themselves.             writers\n",
      "                                                                                                                                                         yet, none of these nonfiction books pay homage to the writers of the books themselves.               books\n",
      "                                                                                                                                                         yet, none of these nonfiction books pay homage to the writers of the books themselves.                none\n",
      "                                                                                                                                                         even with memoirs, the prose focuses on the author s achievements in her chosen field.             memoirs\n",
      "                                                                                                                                                         even with memoirs, the prose focuses on the author s achievements in her chosen field.        achievements\n",
      "                                                                                                                                                         even with memoirs, the prose focuses on the author s achievements in her chosen field.               field\n",
      "                                                                                                                                                         even with memoirs, the prose focuses on the author s achievements in her chosen field.               prose\n",
      "                                                                                                                                                  last week a goodreads friend and i paid tribute to women authors in a daily literary journal.             authors\n",
      "                                                                                                                                                  last week a goodreads friend and i paid tribute to women authors in a daily literary journal.             journal\n",
      "                                                                                                                                                  last week a goodreads friend and i paid tribute to women authors in a daily literary journal.             tribute\n",
      "                                       in one of my friend s posts, she pointed out that as recently as 1960, the author of the most endearing of american novels had to use a masculinized version of her name in fear of not being published.                name\n",
      "                                       in one of my friend s posts, she pointed out that as recently as 1960, the author of the most endearing of american novels had to use a masculinized version of her name in fear of not being published.               posts\n",
      "                                       in one of my friend s posts, she pointed out that as recently as 1960, the author of the most endearing of american novels had to use a masculinized version of her name in fear of not being published.              novels\n",
      "                                       in one of my friend s posts, she pointed out that as recently as 1960, the author of the most endearing of american novels had to use a masculinized version of her name in fear of not being published.           endearing\n",
      "                                       in one of my friend s posts, she pointed out that as recently as 1960, the author of the most endearing of american novels had to use a masculinized version of her name in fear of not being published.              author\n",
      "                                       in one of my friend s posts, she pointed out that as recently as 1960, the author of the most endearing of american novels had to use a masculinized version of her name in fear of not being published.             version\n",
      "                                       in one of my friend s posts, she pointed out that as recently as 1960, the author of the most endearing of american novels had to use a masculinized version of her name in fear of not being published.                fear\n",
      "                                                                           nelle harper lee of monroeville, alabama published to kill a mockingbird under her middle name, so only those well read readers are aware of the author s full name.                name\n",
      "                                                                           nelle harper lee of monroeville, alabama published to kill a mockingbird under her middle name, so only those well read readers are aware of the author s full name.          harper lee\n",
      "                                                                           nelle harper lee of monroeville, alabama published to kill a mockingbird under her middle name, so only those well read readers are aware of the author s full name.         monroeville\n",
      "                                                                           nelle harper lee of monroeville, alabama published to kill a mockingbird under her middle name, so only those well read readers are aware of the author s full name.                 lee\n",
      "                                                                           nelle harper lee of monroeville, alabama published to kill a mockingbird under her middle name, so only those well read readers are aware of the author s full name.              author\n",
      "                                                                           nelle harper lee of monroeville, alabama published to kill a mockingbird under her middle name, so only those well read readers are aware of the author s full name.             readers\n",
      "                                                                                                   it is in this regard, that i included pulitzer and presidential medal of freedom winner nelle harper lee in my women s history month lineup.              lineup\n",
      "                                                                                                   it is in this regard, that i included pulitzer and presidential medal of freedom winner nelle harper lee in my women s history month lineup.          harper lee\n",
      "                                                                                                   it is in this regard, that i included pulitzer and presidential medal of freedom winner nelle harper lee in my women s history month lineup.                 lee\n",
      "                                                                                                   it is in this regard, that i included pulitzer and presidential medal of freedom winner nelle harper lee in my women s history month lineup.              regard\n",
      "                                                                                                   it is in this regard, that i included pulitzer and presidential medal of freedom winner nelle harper lee in my women s history month lineup.            pulitzer\n",
      "                                                                                                                                                               it is as auspicious of a time as any to reread one of america s greatest novels.                time\n",
      "                                                                                                                                                               it is as auspicious of a time as any to reread one of america s greatest novels.              novels\n",
      "                                                                                                                                                         when i was in ninth grade english class, i read harper lee s novel for the first time.               novel\n",
      "                                                                                                                                                         when i was in ninth grade english class, i read harper lee s novel for the first time.                time\n",
      "                                                                                                                                                         when i was in ninth grade english class, i read harper lee s novel for the first time.               class\n",
      "                                                                                                                                                         when i was in ninth grade english class, i read harper lee s novel for the first time.               lee s\n",
      "                                                                                                                                                     at age fourteen i was hardly a polished writer and struggled with many of the assignments.         assignments\n",
      "                                                                                                                                                     at age fourteen i was hardly a polished writer and struggled with many of the assignments.                 age\n",
      "       yet, i do remember that the top essay in the class focused on the overarching theme of courage and how harper lee showed how each of the characters, major and minor, embodied this trait in the trying times associated with the novel.          characters\n",
      "       yet, i do remember that the top essay in the class focused on the overarching theme of courage and how harper lee showed how each of the characters, major and minor, embodied this trait in the trying times associated with the novel.               theme\n",
      "       yet, i do remember that the top essay in the class focused on the overarching theme of courage and how harper lee showed how each of the characters, major and minor, embodied this trait in the trying times associated with the novel.             courage\n",
      "       yet, i do remember that the top essay in the class focused on the overarching theme of courage and how harper lee showed how each of the characters, major and minor, embodied this trait in the trying times associated with the novel.               trait\n",
      "       yet, i do remember that the top essay in the class focused on the overarching theme of courage and how harper lee showed how each of the characters, major and minor, embodied this trait in the trying times associated with the novel.                 lee\n",
      "       yet, i do remember that the top essay in the class focused on the overarching theme of courage and how harper lee showed how each of the characters, major and minor, embodied this trait in the trying times associated with the novel.               novel\n",
      "       yet, i do remember that the top essay in the class focused on the overarching theme of courage and how harper lee showed how each of the characters, major and minor, embodied this trait in the trying times associated with the novel.               times\n",
      "       yet, i do remember that the top essay in the class focused on the overarching theme of courage and how harper lee showed how each of the characters, major and minor, embodied this trait in the trying times associated with the novel.               essay\n",
      "       yet, i do remember that the top essay in the class focused on the overarching theme of courage and how harper lee showed how each of the characters, major and minor, embodied this trait in the trying times associated with the novel.               class\n",
      "                                                                                                                  it was courageous of a southern woman to write a novel with this subject matter prior to the passage of the civil rights act.                 act\n",
      "                                                                                                                  it was courageous of a southern woman to write a novel with this subject matter prior to the passage of the civil rights act.               woman\n",
      "                                                                                                                  it was courageous of a southern woman to write a novel with this subject matter prior to the passage of the civil rights act.             passage\n",
      "                                                                                                                  it was courageous of a southern woman to write a novel with this subject matter prior to the passage of the civil rights act.               novel\n",
      "                                                                                                                  it was courageous of a southern woman to write a novel with this subject matter prior to the passage of the civil rights act.              matter\n",
      "                                                                                                                                           it is of little wonder to me looking back now that she chose to publish under a gender neutral name.              wonder\n",
      "                                                                                                                                           it is of little wonder to me looking back now that she chose to publish under a gender neutral name.                name\n",
      "                                                                                                                                                                             perhaps, she feared a lynch mob or being outcast in her home town.                town\n",
      "                                                                                                                                                                             perhaps, she feared a lynch mob or being outcast in her home town.                 mob\n",
      "                                                        it was a trying time as the federal government asserted itself against states still grieving from the war between the states and holding out as the last bulwarks of white superiority.                 war\n",
      "                                                        it was a trying time as the federal government asserted itself against states still grieving from the war between the states and holding out as the last bulwarks of white superiority.            bulwarks\n",
      "                                                        it was a trying time as the federal government asserted itself against states still grieving from the war between the states and holding out as the last bulwarks of white superiority.         superiority\n",
      "                                                        it was a trying time as the federal government asserted itself against states still grieving from the war between the states and holding out as the last bulwarks of white superiority.          government\n",
      "                                                        it was a trying time as the federal government asserted itself against states still grieving from the war between the states and holding out as the last bulwarks of white superiority.              states\n",
      "                                                                                                               harper lee exhibited as much courage as the characters in her novel, and rightfully was awarded the pulitzer prize for her work.               prize\n",
      "                                                                                                               harper lee exhibited as much courage as the characters in her novel, and rightfully was awarded the pulitzer prize for her work.          characters\n",
      "                                                                                                               harper lee exhibited as much courage as the characters in her novel, and rightfully was awarded the pulitzer prize for her work.          harper lee\n",
      "                                                                                                               harper lee exhibited as much courage as the characters in her novel, and rightfully was awarded the pulitzer prize for her work.             courage\n",
      "                                                                                                               harper lee exhibited as much courage as the characters in her novel, and rightfully was awarded the pulitzer prize for her work.                 lee\n",
      "                                                                                                               harper lee exhibited as much courage as the characters in her novel, and rightfully was awarded the pulitzer prize for her work.               novel\n",
      "                                                                                                               harper lee exhibited as much courage as the characters in her novel, and rightfully was awarded the pulitzer prize for her work.                work\n",
      "                                                                                                                        as such, being courageous starts from the top and works its way down to each and every character of this timeless work.                work\n",
      "                                                                                                                        as such, being courageous starts from the top and works its way down to each and every character of this timeless work.                 way\n",
      "                                                                                                                        as such, being courageous starts from the top and works its way down to each and every character of this timeless work.                 top\n",
      "                                                                                                                                                              in 1930s rural maycomb, alabama people were pretty much set in their way of life.                life\n",
      "                                                                                                                                                              in 1930s rural maycomb, alabama people were pretty much set in their way of life.             maycomb\n",
      "                                                                                                                                                              in 1930s rural maycomb, alabama people were pretty much set in their way of life.                 way\n",
      "                                                                                                                                                              in 1930s rural maycomb, alabama people were pretty much set in their way of life.              people\n",
      "                                                                                                                                                  town folk had received an education and worked as lawyers, doctors, bankers, and businessmen.             lawyers\n",
      "                                                                                                                                                  town folk had received an education and worked as lawyers, doctors, bankers, and businessmen.                folk\n",
      "                                                                                                                                                  town folk had received an education and worked as lawyers, doctors, bankers, and businessmen.           education\n",
      "                                                                                                                       the country folk may or may not have received an education because they had to work the fields and many were illiterate.              fields\n",
      "                                                                                                                       the country folk may or may not have received an education because they had to work the fields and many were illiterate.                folk\n",
      "                                                                                                                       the country folk may or may not have received an education because they had to work the fields and many were illiterate.           education\n",
      "                              even the majority of those educated white folk still saw themselves as superior to blacks, and few, if any, had the audacity to take a black s word over a white s even if it were the correct moral thing to do.               white\n",
      "                              even the majority of those educated white folk still saw themselves as superior to blacks, and few, if any, had the audacity to take a black s word over a white s even if it were the correct moral thing to do.            audacity\n",
      "                              even the majority of those educated white folk still saw themselves as superior to blacks, and few, if any, had the audacity to take a black s word over a white s even if it were the correct moral thing to do.                word\n",
      "                              even the majority of those educated white folk still saw themselves as superior to blacks, and few, if any, had the audacity to take a black s word over a white s even if it were the correct moral thing to do.            majority\n",
      "                              even the majority of those educated white folk still saw themselves as superior to blacks, and few, if any, had the audacity to take a black s word over a white s even if it were the correct moral thing to do.              blacks\n",
      "                              even the majority of those educated white folk still saw themselves as superior to blacks, and few, if any, had the audacity to take a black s word over a white s even if it were the correct moral thing to do.                folk\n",
      "yet, the crux of lee s novel is a court case threatening to disrupt this way of life, having the town divide along both racial and moral lines, and having each character step into others shoes and view the world from another s perspective.                step\n",
      "yet, the crux of lee s novel is a court case threatening to disrupt this way of life, having the town divide along both racial and moral lines, and having each character step into others shoes and view the world from another s perspective.               lines\n",
      "yet, the crux of lee s novel is a court case threatening to disrupt this way of life, having the town divide along both racial and moral lines, and having each character step into others shoes and view the world from another s perspective.               shoes\n",
      "yet, the crux of lee s novel is a court case threatening to disrupt this way of life, having the town divide along both racial and moral lines, and having each character step into others shoes and view the world from another s perspective.               lee s\n",
      "yet, the crux of lee s novel is a court case threatening to disrupt this way of life, having the town divide along both racial and moral lines, and having each character step into others shoes and view the world from another s perspective.               novel\n",
      "yet, the crux of lee s novel is a court case threatening to disrupt this way of life, having the town divide along both racial and moral lines, and having each character step into others shoes and view the world from another s perspective.               world\n",
      "yet, the crux of lee s novel is a court case threatening to disrupt this way of life, having the town divide along both racial and moral lines, and having each character step into others shoes and view the world from another s perspective.                 way\n",
      "yet, the crux of lee s novel is a court case threatening to disrupt this way of life, having the town divide along both racial and moral lines, and having each character step into others shoes and view the world from another s perspective.         perspective\n",
      "yet, the crux of lee s novel is a court case threatening to disrupt this way of life, having the town divide along both racial and moral lines, and having each character step into others shoes and view the world from another s perspective.                crux\n",
      "yet, the crux of lee s novel is a court case threatening to disrupt this way of life, having the town divide along both racial and moral lines, and having each character step into others shoes and view the world from another s perspective.           character\n",
      "yet, the crux of lee s novel is a court case threatening to disrupt this way of life, having the town divide along both racial and moral lines, and having each character step into others shoes and view the world from another s perspective.                town\n",
      "yet, the crux of lee s novel is a court case threatening to disrupt this way of life, having the town divide along both racial and moral lines, and having each character step into others shoes and view the world from another s perspective.                life\n",
      "                                                            maycomb at the time embodied many rural american cities, isolated from progress as town set in its ways with few people who were willing to see the world from another perspective.              cities\n",
      "                                                            maycomb at the time embodied many rural american cities, isolated from progress as town set in its ways with few people who were willing to see the world from another perspective.               world\n",
      "                                                            maycomb at the time embodied many rural american cities, isolated from progress as town set in its ways with few people who were willing to see the world from another perspective.                time\n",
      "                                                            maycomb at the time embodied many rural american cities, isolated from progress as town set in its ways with few people who were willing to see the world from another perspective.         perspective\n",
      "                                                            maycomb at the time embodied many rural american cities, isolated from progress as town set in its ways with few people who were willing to see the world from another perspective.                ways\n",
      "                                                            maycomb at the time embodied many rural american cities, isolated from progress as town set in its ways with few people who were willing to see the world from another perspective.              people\n",
      "                                                            maycomb at the time embodied many rural american cities, isolated from progress as town set in its ways with few people who were willing to see the world from another perspective.            progress\n",
      "                                                            maycomb at the time embodied many rural american cities, isolated from progress as town set in its ways with few people who were willing to see the world from another perspective.                town\n",
      "                                                                                                                            one man was, however, a lawyer named atticus finch who is among the most revered fictional characters ever created.                 man\n",
      "                                                                                                                            one man was, however, a lawyer named atticus finch who is among the most revered fictional characters ever created.          characters\n",
      "     even though this court case should not have been his, his superiors selected atticus to counsel a black defendant because they realized that he was the one man in maycomb who had both the ability to empathize and the courage to do so.             maycomb\n",
      "     even though this court case should not have been his, his superiors selected atticus to counsel a black defendant because they realized that he was the one man in maycomb who had both the ability to empathize and the courage to do so.           defendant\n",
      "     even though this court case should not have been his, his superiors selected atticus to counsel a black defendant because they realized that he was the one man in maycomb who had both the ability to empathize and the courage to do so.           superiors\n",
      "     even though this court case should not have been his, his superiors selected atticus to counsel a black defendant because they realized that he was the one man in maycomb who had both the ability to empathize and the courage to do so.                case\n",
      "     even though this court case should not have been his, his superiors selected atticus to counsel a black defendant because they realized that he was the one man in maycomb who had both the ability to empathize and the courage to do so.             ability\n",
      "     even though this court case should not have been his, his superiors selected atticus to counsel a black defendant because they realized that he was the one man in maycomb who had both the ability to empathize and the courage to do so.             atticus\n",
      "                                                                                                             his neighbor mrs maudie atkinson noted that atticus was the same man in the court house as he was at home and had nothing to fear.     maudie atkinson\n",
      "                                                                                                             his neighbor mrs maudie atkinson noted that atticus was the same man in the court house as he was at home and had nothing to fear.                home\n",
      "                                                                                                             his neighbor mrs maudie atkinson noted that atticus was the same man in the court house as he was at home and had nothing to fear.             atticus\n",
      "                                                                                                             his neighbor mrs maudie atkinson noted that atticus was the same man in the court house as he was at home and had nothing to fear.            neighbor\n",
      "                                                                                                             his neighbor mrs maudie atkinson noted that atticus was the same man in the court house as he was at home and had nothing to fear.               house\n",
      "                                                                              a widower, he instilled these values to his children jeremy atticus jem and jean louise scout from a young age, passing a strong moral compass onto his children.            children\n",
      "                                                                              a widower, he instilled these values to his children jeremy atticus jem and jean louise scout from a young age, passing a strong moral compass onto his children.         atticus jem\n",
      "                                                                              a widower, he instilled these values to his children jeremy atticus jem and jean louise scout from a young age, passing a strong moral compass onto his children.             compass\n",
      "                                                                              a widower, he instilled these values to his children jeremy atticus jem and jean louise scout from a young age, passing a strong moral compass onto his children.              values\n",
      "                                                                              a widower, he instilled these values to his children jeremy atticus jem and jean louise scout from a young age, passing a strong moral compass onto his children.         jean louise\n",
      "                                                                              a widower, he instilled these values to his children jeremy atticus jem and jean louise scout from a young age, passing a strong moral compass onto his children.                 age\n",
      "                                                                                                                  in addition to critiquing southern race relations, lee s novel has endeared itself to children with the legend of boo radley.            children\n",
      "                                                                                                                  in addition to critiquing southern race relations, lee s novel has endeared itself to children with the legend of boo radley.            addition\n",
      "                                                                                                                  in addition to critiquing southern race relations, lee s novel has endeared itself to children with the legend of boo radley.              radley\n",
      "                                                                                                                  in addition to critiquing southern race relations, lee s novel has endeared itself to children with the legend of boo radley.           relations\n",
      "                                                                                                                  in addition to critiquing southern race relations, lee s novel has endeared itself to children with the legend of boo radley.               novel\n",
      "                                                                                                                  in addition to critiquing southern race relations, lee s novel has endeared itself to children with the legend of boo radley.               lee s\n",
      "                                                                                                                  in addition to critiquing southern race relations, lee s novel has endeared itself to children with the legend of boo radley.              legend\n",
      "                                         from the time they were young, jem, scout, and their summer friend dill had courage to go to the radley house trying to get boo to come out even though all the other kids said the house was spooked.                 jem\n",
      "                                         from the time they were young, jem, scout, and their summer friend dill had courage to go to the radley house trying to get boo to come out even though all the other kids said the house was spooked.             courage\n",
      "                                         from the time they were young, jem, scout, and their summer friend dill had courage to go to the radley house trying to get boo to come out even though all the other kids said the house was spooked.                time\n",
      "                                         from the time they were young, jem, scout, and their summer friend dill had courage to go to the radley house trying to get boo to come out even though all the other kids said the house was spooked.               house\n",
      "                                         from the time they were young, jem, scout, and their summer friend dill had courage to go to the radley house trying to get boo to come out even though all the other kids said the house was spooked.                kids\n",
      "                                                                                                                                         atticus told them to put a halt to these childish games and explained boo radley s background to them. radley s background\n",
      "                                                                                                                                         atticus told them to put a halt to these childish games and explained boo radley s background to them.                halt\n",
      "                                                                                                                                         atticus told them to put a halt to these childish games and explained boo radley s background to them.             atticus\n",
      "                                                                                                                                         atticus told them to put a halt to these childish games and explained boo radley s background to them.               games\n",
      "                                                                                                                                         atticus told them to put a halt to these childish games and explained boo radley s background to them.          background\n",
      "                                                                                                                 the town claimed that boo radley was a ghost, but perhaps the reason he did not leave the house is because he did not want to.               house\n",
      "                                                                                                                 the town claimed that boo radley was a ghost, but perhaps the reason he did not leave the house is because he did not want to.                town\n",
      "                                                                                                                 the town claimed that boo radley was a ghost, but perhaps the reason he did not leave the house is because he did not want to.              radley\n",
      "                                                                                                                 the town claimed that boo radley was a ghost, but perhaps the reason he did not leave the house is because he did not want to.              reason\n",
      "                                                        as the children grew older, atticus warned them that there would be darker times ahead and they would have to be courageous in the face of what people said to them behind their backs.            children\n",
      "                                                        as the children grew older, atticus warned them that there would be darker times ahead and they would have to be courageous in the face of what people said to them behind their backs.               backs\n",
      "                                                        as the children grew older, atticus warned them that there would be darker times ahead and they would have to be courageous in the face of what people said to them behind their backs.             atticus\n",
      "                                                        as the children grew older, atticus warned them that there would be darker times ahead and they would have to be courageous in the face of what people said to them behind their backs.                face\n",
      "                                                        as the children grew older, atticus warned them that there would be darker times ahead and they would have to be courageous in the face of what people said to them behind their backs.              people\n",
      "                                                                                                                                 from the time scout began school in first grade, she inhibited atticus ability to stand up for what was right.               grade\n",
      "                                                                                                                                 from the time scout began school in first grade, she inhibited atticus ability to stand up for what was right.             ability\n",
      "                                                                                                                                 from the time scout began school in first grade, she inhibited atticus ability to stand up for what was right.               scout\n",
      "                                                                                                                                 from the time scout began school in first grade, she inhibited atticus ability to stand up for what was right.              school\n",
      "                                                                                                                                                             her teacher miss robinson was new to maycomb and did not understand people s ways.             teacher\n",
      "                                                                                                                                                             her teacher miss robinson was new to maycomb and did not understand people s ways.            robinson\n",
      "                                                                                                                                                             her teacher miss robinson was new to maycomb and did not understand people s ways.                ways\n",
      "                                                                                                                                    scout explained about the cunninghams, the ewells, as well as other families at a personal cost to herself.                cost\n",
      "                                                                                                                                    scout explained about the cunninghams, the ewells, as well as other families at a personal cost to herself.               scout\n",
      "                                                                                                                                    scout explained about the cunninghams, the ewells, as well as other families at a personal cost to herself.         cunninghams\n",
      " as scout grew older and was able to step into other people s shoes more, she grew to understand differences between folks however, she and jem realized that differences did not make the world distinctly black and white or right and wrong.               shoes\n",
      " as scout grew older and was able to step into other people s shoes more, she grew to understand differences between folks however, she and jem realized that differences did not make the world distinctly black and white or right and wrong.                 jem\n",
      " as scout grew older and was able to step into other people s shoes more, she grew to understand differences between folks however, she and jem realized that differences did not make the world distinctly black and white or right and wrong.               world\n",
      " as scout grew older and was able to step into other people s shoes more, she grew to understand differences between folks however, she and jem realized that differences did not make the world distinctly black and white or right and wrong.         differences\n",
      " as scout grew older and was able to step into other people s shoes more, she grew to understand differences between folks however, she and jem realized that differences did not make the world distinctly black and white or right and wrong.               folks\n",
      " as scout grew older and was able to step into other people s shoes more, she grew to understand differences between folks however, she and jem realized that differences did not make the world distinctly black and white or right and wrong.               scout\n",
      "                                                                                           during an era when children were looked upon as unintelligent, scout and jem were wise beyond their years and following in their father s footsteps.                 jem\n",
      "                                                                                           during an era when children were looked upon as unintelligent, scout and jem were wise beyond their years and following in their father s footsteps.               years\n",
      "                                                                                           during an era when children were looked upon as unintelligent, scout and jem were wise beyond their years and following in their father s footsteps.           footsteps\n",
      "                                                                                           during an era when children were looked upon as unintelligent, scout and jem were wise beyond their years and following in their father s footsteps.       unintelligent\n",
      "                                                                                           during an era when children were looked upon as unintelligent, scout and jem were wise beyond their years and following in their father s footsteps.                 era\n",
      "                                                                                                                                                         harper lee created strong archetypal characters and had each embody their own courage.             courage\n",
      "                                                                                                                                                         harper lee created strong archetypal characters and had each embody their own courage.          harper lee\n",
      "                                                                                                                                                         harper lee created strong archetypal characters and had each embody their own courage.          characters\n",
      "                                                                                                                                                         harper lee created strong archetypal characters and had each embody their own courage.                 lee\n",
      "                                                                                                                              each s courage allowed atticus to teach his children a life lesson that would endure for the rest of their lives.             courage\n",
      "                                                                                                                              each s courage allowed atticus to teach his children a life lesson that would endure for the rest of their lives.             atticus\n",
      "                                                                                                                              each s courage allowed atticus to teach his children a life lesson that would endure for the rest of their lives.              lesson\n",
      "                                                                                                                              each s courage allowed atticus to teach his children a life lesson that would endure for the rest of their lives.                rest\n",
      "                                                                                                                              each s courage allowed atticus to teach his children a life lesson that would endure for the rest of their lives.               lives\n",
      "                                                                                                                                         the family s neighbor mrs. henry lafayette dubose demonstrates courage as she battles a final illness.              dubose\n",
      "                                                                                                                                         the family s neighbor mrs. henry lafayette dubose demonstrates courage as she battles a final illness.             courage\n",
      "                                                                                                                                         the family s neighbor mrs. henry lafayette dubose demonstrates courage as she battles a final illness.             illness\n",
      "                                                                                                                                         the family s neighbor mrs. henry lafayette dubose demonstrates courage as she battles a final illness.     henry lafayette\n",
      "           third grade teacher mrs. gates exhibits courage as she teaches scout s class about the rise of nazism in germany and th encourages her students to think for themselves about the differences between prejudices at home and abroad.            students\n",
      "           third grade teacher mrs. gates exhibits courage as she teaches scout s class about the rise of nazism in germany and th encourages her students to think for themselves about the differences between prejudices at home and abroad.                rise\n",
      "           third grade teacher mrs. gates exhibits courage as she teaches scout s class about the rise of nazism in germany and th encourages her students to think for themselves about the differences between prejudices at home and abroad.             courage\n",
      "           third grade teacher mrs. gates exhibits courage as she teaches scout s class about the rise of nazism in germany and th encourages her students to think for themselves about the differences between prejudices at home and abroad.                home\n",
      "           third grade teacher mrs. gates exhibits courage as she teaches scout s class about the rise of nazism in germany and th encourages her students to think for themselves about the differences between prejudices at home and abroad.          prejudices\n",
      "           third grade teacher mrs. gates exhibits courage as she teaches scout s class about the rise of nazism in germany and th encourages her students to think for themselves about the differences between prejudices at home and abroad.         differences\n",
      "           third grade teacher mrs. gates exhibits courage as she teaches scout s class about the rise of nazism in germany and th encourages her students to think for themselves about the differences between prejudices at home and abroad.               gates\n",
      "           third grade teacher mrs. gates exhibits courage as she teaches scout s class about the rise of nazism in germany and th encourages her students to think for themselves about the differences between prejudices at home and abroad.             germany\n",
      "           third grade teacher mrs. gates exhibits courage as she teaches scout s class about the rise of nazism in germany and th encourages her students to think for themselves about the differences between prejudices at home and abroad.               class\n",
      "           third grade teacher mrs. gates exhibits courage as she teaches scout s class about the rise of nazism in germany and th encourages her students to think for themselves about the differences between prejudices at home and abroad.              nazism\n",
      "                                                                                                                                                                        the african american characters all demonstrate strong courage as well.             courage\n",
      "                                                                                                                                                                        the african american characters all demonstrate strong courage as well.          characters\n",
      "                                                                      the finch s housekeeper calpurnia is a bridge between the white and black communities of maycomb and does not hesitate to teach scout and jem life lessons as they arise.             maycomb\n",
      "                                                                      the finch s housekeeper calpurnia is a bridge between the white and black communities of maycomb and does not hesitate to teach scout and jem life lessons as they arise.                 jem\n",
      "                                                                      the finch s housekeeper calpurnia is a bridge between the white and black communities of maycomb and does not hesitate to teach scout and jem life lessons as they arise.             lessons\n",
      "                                                                      the finch s housekeeper calpurnia is a bridge between the white and black communities of maycomb and does not hesitate to teach scout and jem life lessons as they arise.         communities\n",
      "                                                                      the finch s housekeeper calpurnia is a bridge between the white and black communities of maycomb and does not hesitate to teach scout and jem life lessons as they arise.           calpurnia\n",
      "                                                         the reverend sykes welcomes jem and scout into his congregation as though they were his own and invites them to sit in the colored balcony at time when segregation was still the law.         segregation\n",
      "                                                         the reverend sykes welcomes jem and scout into his congregation as though they were his own and invites them to sit in the colored balcony at time when segregation was still the law.             balcony\n",
      "                                                         the reverend sykes welcomes jem and scout into his congregation as though they were his own and invites them to sit in the colored balcony at time when segregation was still the law.            reverend\n",
      "                                                         the reverend sykes welcomes jem and scout into his congregation as though they were his own and invites them to sit in the colored balcony at time when segregation was still the law.        congregation\n",
      "                                                         the reverend sykes welcomes jem and scout into his congregation as though they were his own and invites them to sit in the colored balcony at time when segregation was still the law.                 jem\n",
      "                                                         the reverend sykes welcomes jem and scout into his congregation as though they were his own and invites them to sit in the colored balcony at time when segregation was still the law.                time\n",
      "                 he risked a lynching and knew that the finch family could possibly be labeled as negro lovers, yet reverend sykes played a small role in proving that one s skin color should not determine whether someone is right or wrong.                role\n",
      "                 he risked a lynching and knew that the finch family could possibly be labeled as negro lovers, yet reverend sykes played a small role in proving that one s skin color should not determine whether someone is right or wrong.            lynching\n",
      "                 he risked a lynching and knew that the finch family could possibly be labeled as negro lovers, yet reverend sykes played a small role in proving that one s skin color should not determine whether someone is right or wrong.               color\n",
      "                 he risked a lynching and knew that the finch family could possibly be labeled as negro lovers, yet reverend sykes played a small role in proving that one s skin color should not determine whether someone is right or wrong.              lovers\n",
      "                                                                                                                       of course, as part of the overarching story line, boo radley can be viewed as the most courageous character of them all.                part\n",
      "                                                                                                                       of course, as part of the overarching story line, boo radley can be viewed as the most courageous character of them all.                line\n",
      "                                                                                                                       of course, as part of the overarching story line, boo radley can be viewed as the most courageous character of them all.           character\n",
      "                                                                                                                       of course, as part of the overarching story line, boo radley can be viewed as the most courageous character of them all.              course\n",
      "                          it is through the courage of an author to create characters who will stand up for what is morally right at a large cost to themselves that she created an award winning novel that was ahead of its time for its era.               award\n",
      "                          it is through the courage of an author to create characters who will stand up for what is morally right at a large cost to themselves that she created an award winning novel that was ahead of its time for its era.          characters\n",
      "                          it is through the courage of an author to create characters who will stand up for what is morally right at a large cost to themselves that she created an award winning novel that was ahead of its time for its era.             courage\n",
      "                          it is through the courage of an author to create characters who will stand up for what is morally right at a large cost to themselves that she created an award winning novel that was ahead of its time for its era.              author\n",
      "                          it is through the courage of an author to create characters who will stand up for what is morally right at a large cost to themselves that she created an award winning novel that was ahead of its time for its era.                cost\n",
      "                          it is through the courage of an author to create characters who will stand up for what is morally right at a large cost to themselves that she created an award winning novel that was ahead of its time for its era.               novel\n",
      "                          it is through the courage of an author to create characters who will stand up for what is morally right at a large cost to themselves that she created an award winning novel that was ahead of its time for its era.                time\n",
      "                          it is through the courage of an author to create characters who will stand up for what is morally right at a large cost to themselves that she created an award winning novel that was ahead of its time for its era.                 era\n",
      "                                                                                                                               it is little wonder that the courage of these fictional characters has made the novel as beloved as it is today.               novel\n",
      "                                                                                                                               it is little wonder that the courage of these fictional characters has made the novel as beloved as it is today.             courage\n",
      "                                                                                                                               it is little wonder that the courage of these fictional characters has made the novel as beloved as it is today.          characters\n",
      "                                                                          i believe that the courage exhibited by all these characters has made the town of maycomb, alabama stand the test of time and remain the timeless classic that it is.             maycomb\n",
      "                                                                          i believe that the courage exhibited by all these characters has made the town of maycomb, alabama stand the test of time and remain the timeless classic that it is.          characters\n",
      "                                                                          i believe that the courage exhibited by all these characters has made the town of maycomb, alabama stand the test of time and remain the timeless classic that it is.             courage\n",
      "                                                                          i believe that the courage exhibited by all these characters has made the town of maycomb, alabama stand the test of time and remain the timeless classic that it is.             alabama\n",
      "                                                                          i believe that the courage exhibited by all these characters has made the town of maycomb, alabama stand the test of time and remain the timeless classic that it is.                time\n",
      "                                                                          i believe that the courage exhibited by all these characters has made the town of maycomb, alabama stand the test of time and remain the timeless classic that it is.                test\n",
      "                                                                          i believe that the courage exhibited by all these characters has made the town of maycomb, alabama stand the test of time and remain the timeless classic that it is.                town\n",
      "                                                                                                     most people can relate to those who have the courage to stand up for what they think is right or to fight against those tougher than them.              people\n",
      "                                                                                                     most people can relate to those who have the courage to stand up for what they think is right or to fight against those tougher than them.             courage\n",
      "                                                                                                                  this character trait has endeared the finch family to millions of readers and will continue to do so for generations to come.              family\n",
      "                                                                                                                  this character trait has endeared the finch family to millions of readers and will continue to do so for generations to come.               trait\n",
      "                                                                                                                  this character trait has endeared the finch family to millions of readers and will continue to do so for generations to come.         generations\n",
      "                                                                                                                  this character trait has endeared the finch family to millions of readers and will continue to do so for generations to come.            millions\n",
      "                                                                                                                  this character trait has endeared the finch family to millions of readers and will continue to do so for generations to come.             readers\n",
      "                                                                                                               whenever a person asks what book would you give as a gift or what is the perfect book, to kill a mockingbird is my first choice.                book\n",
      "                                                                                                               whenever a person asks what book would you give as a gift or what is the perfect book, to kill a mockingbird is my first choice.              person\n",
      "                                                                                                               whenever a person asks what book would you give as a gift or what is the perfect book, to kill a mockingbird is my first choice.                gift\n",
      "                                                                                                               whenever a person asks what book would you give as a gift or what is the perfect book, to kill a mockingbird is my first choice.         mockingbird\n",
      "                                                                                                          i find that it is perfect for any time but most appropriate in spring as in addition to courage there is an underlying theme of hope.            addition\n",
      "                                                                                                          i find that it is perfect for any time but most appropriate in spring as in addition to courage there is an underlying theme of hope.             courage\n",
      "                                                                                                          i find that it is perfect for any time but most appropriate in spring as in addition to courage there is an underlying theme of hope.                time\n",
      "                                                                                                          i find that it is perfect for any time but most appropriate in spring as in addition to courage there is an underlying theme of hope.                hope\n",
      "                                                                                                          i find that it is perfect for any time but most appropriate in spring as in addition to courage there is an underlying theme of hope.              spring\n",
      "                                                                                                         harper lee won the pulitzer for this timeless classic, and it also won first place in the great american read as america s best novel.          harper lee\n",
      "                                                                                                         harper lee won the pulitzer for this timeless classic, and it also won first place in the great american read as america s best novel.             classic\n",
      "                                                                                                         harper lee won the pulitzer for this timeless classic, and it also won first place in the great american read as america s best novel.               place\n",
      "                                                                                                         harper lee won the pulitzer for this timeless classic, and it also won first place in the great american read as america s best novel.                 lee\n",
      "                                                                                                         harper lee won the pulitzer for this timeless classic, and it also won first place in the great american read as america s best novel.               novel\n",
      "                                                                                                         harper lee won the pulitzer for this timeless classic, and it also won first place in the great american read as america s best novel.                read\n",
      "                                                                                                         harper lee won the pulitzer for this timeless classic, and it also won first place in the great american read as america s best novel.            pulitzer\n",
      "                                                                   thus i can think of no better way to honor women s history month than with a timeless book that has and will continue to capture the hearts and minds of all of its readers.               month\n",
      "                                                                   thus i can think of no better way to honor women s history month than with a timeless book that has and will continue to capture the hearts and minds of all of its readers.                book\n",
      "                                                                   thus i can think of no better way to honor women s history month than with a timeless book that has and will continue to capture the hearts and minds of all of its readers.                 way\n",
      "                                                                   thus i can think of no better way to honor women s history month than with a timeless book that has and will continue to capture the hearts and minds of all of its readers.             readers\n",
      "                                                                   thus i can think of no better way to honor women s history month than with a timeless book that has and will continue to capture the hearts and minds of all of its readers.              hearts\n",
      "                                                                                                                                                                                                               5 stars all time favorites shelf               shelf\n",
      "                                                                                                                                                                                                               5 stars all time favorites shelf               stars\n"
     ]
    }
   ],
   "source": [
    "# Select one sample review\n",
    "sample_review = df_reviews.iloc[5]\n",
    "\n",
    "# Extract sentences from the sample review\n",
    "sample_sentences = sample_review['sentences']\n",
    "172.30.192.1\n",
    "# Extract aspects from each sentence\n",
    "aspect_data = []\n",
    "for sentence in sample_sentences:\n",
    "    aspects = extract_aspects_advanced(sentence)  # Extract aspects using advanced method\n",
    "    for aspect in aspects:\n",
    "        aspect_data.append((sentence, aspect))  # Store sentence-aspect pairs\n",
    "\n",
    "# Convert to DataFrame for better visualization\n",
    "import pandas as pd\n",
    "aspect_df = pd.DataFrame(aspect_data, columns=['Sentence', 'Extracted Aspect'])\n",
    "\n",
    "# Display results\n",
    "print(\"\\nFiltered Extracted Aspects from Sample Review:\\n\")\n",
    "print(aspect_df.to_string(index=False))  # Print without default index\n"
   ]
  },
  {
   "cell_type": "code",
   "execution_count": 10,
   "metadata": {},
   "outputs": [
    {
     "name": "stderr",
     "output_type": "stream",
     "text": [
      "[nltk_data] Downloading package stopwords to\n",
      "[nltk_data]     /home/kayweeee/nltk_data...\n",
      "[nltk_data]   Package stopwords is already up-to-date!\n"
     ]
    }
   ],
   "source": [
    "import spacy\n",
    "import nltk\n",
    "from nltk.corpus import stopwords\n",
    "\n",
    "# Load SpaCy NLP model\n",
    "nlp = spacy.load(\"en_core_web_sm\")\n",
    "\n",
    "# Download NLTK stopwords if not already present\n",
    "nltk.download(\"stopwords\")\n",
    "stop_words = set(stopwords.words(\"english\"))\n",
    "\n",
    "def preprocess_text(text):\n",
    "    \"\"\"Removes stopwords and returns cleaned text.\"\"\"\n",
    "    doc = nlp(text)\n",
    "    cleaned_tokens = [token.text for token in doc if token.text.lower() not in stop_words]\n",
    "    return \" \".join(cleaned_tokens)\n",
    "\n",
    "def extract_aspects(text):\n",
    "    \"\"\"Extract noun phrases (aspects) from a cleaned sentence.\"\"\"\n",
    "    cleaned_text = preprocess_text(text)  # Remove stopwords first\n",
    "    doc = nlp(cleaned_text)\n",
    "    \n",
    "    aspects = list(set(chunk.text.lower() for chunk in doc.noun_chunks if len(chunk.text) > 2))\n",
    "    return aspects\n"
   ]
  },
  {
   "cell_type": "code",
   "execution_count": 13,
   "metadata": {},
   "outputs": [],
   "source": [
    "def extract_aspects(text):\n",
    "    \"\"\"Extracts noun phrases, limits length, and removes irrelevant words.\"\"\"\n",
    "    cleaned_text = preprocess_text(text)  # Remove stopwords\n",
    "    doc = nlp(cleaned_text)\n",
    "    \n",
    "    aspects = []\n",
    "    for chunk in doc.noun_chunks:\n",
    "        aspect = chunk.lemma_.strip().lower()\n",
    "\n",
    "        # Only keep noun phrases that are meaningful (1-3 words)\n",
    "        if 1 <= len(aspect.split()) <= 3:\n",
    "            aspects.append(aspect)\n",
    "    \n",
    "    return list(set(aspects))  # Remove duplicates"
   ]
  },
  {
   "cell_type": "code",
   "execution_count": 16,
   "metadata": {},
   "outputs": [
    {
     "name": "stdout",
     "output_type": "stream",
     "text": [
      "\n",
      "Filtered Extracted Aspects from Sample Review:\n",
      "\n",
      "                                                                                                                                                                                                                                                 Sentence               Extracted Aspect\n",
      "                                                                                                                                                                                          when i first read this book three years ago, i really liked it.                first read book\n",
      "                                                                                                                   sadly, i did not write my thoughts down in an elaborate way back in the day, but i know for sure, that i did not read critically then.                        thought\n",
      "                                                                                                                                                                                 upon my re read of this book, i honestly do not have good things to say.                      read book\n",
      "                                                                                                                                                                                 upon my re read of this book, i honestly do not have good things to say.            honestly good thing\n",
      "                                   i am aware that some of my criticism is not a critique of the book itself, but about its perception, and how it is, up to this day, held up as the one true book about race relations in the united states of america.                     perception\n",
      "                                   i am aware that some of my criticism is not a critique of the book itself, but about its perception, and how it is, up to this day, held up as the one true book about race relations in the united states of america.                            day\n",
      "                                                                                                                                          this book was written by a white woman, from a white perspective, about white characters, for a white audience.                 white audience\n",
      "                                                                                                                                          this book was written by a white woman, from a white perspective, about white characters, for a white audience.              white perspective\n",
      "                                                                                                                                          this book was written by a white woman, from a white perspective, about white characters, for a white audience.                           book\n",
      "                                                                                                                                          this book was written by a white woman, from a white perspective, about white characters, for a white audience.                    white woman\n",
      "                                                                                                                                          this book was written by a white woman, from a white perspective, about white characters, for a white audience.                white character\n",
      "                                                                                                                                                                                               this book is a pat on the back for the white middle class.                            pat\n",
      "                                                                                                                                                                                                       this book gives comfort to the white middle class.                           book\n",
      "                                                                                                                                              comfort that they, especially back in the 1960s, did not need, and allow me to be so bold, did not deserve.           especially back 1960\n",
      "                                                                                                                                              comfort that they, especially back in the 1960s, did not need, and allow me to be so bold, did not deserve.                        comfort\n",
      "                                                                                                                                                                                                                      harper lee s focus is purely white.                     harper lee\n",
      "                                                                           while the white characters in this book are the subjects, who take action into their own hands, who suffer and make sacrifices, the black characters in this book are objects.                    action hand\n",
      "                                                                           while the white characters in this book are the subjects, who take action into their own hands, who suffer and make sacrifices, the black characters in this book are objects.                      sacrifice\n",
      "                                                                                                                                                                                                                           they have little to no agency.                  little agency\n",
      "                                                                                                                                                                                                                                   things happen to them.                          thing\n",
      "                                                                                                                                           they are harmless, defenseless, and just there waiting for the white knight hero, atticus finch, to save them.              white knight hero\n",
      "                                                                                                                                           they are harmless, defenseless, and just there waiting for the white knight hero, atticus finch, to save them.                  atticus finch\n",
      "                                                                                                         this book is a disgrace in the face of the black liberation movements that existed back in the day, and the solidarity within black communities.                           book\n",
      "                                                                                                         this book is a disgrace in the face of the black liberation movements that existed back in the day, and the solidarity within black communities.      black liberation movement\n",
      "                                                                                                         this book is a disgrace in the face of the black liberation movements that existed back in the day, and the solidarity within black communities.                black community\n",
      "black people stood up for themselves and fought for their rights, and only due to their voices, their protests, their sit ins, their marches, their demonstrations, their conferences, was racial segregation made unconstitutional in the united states.                             in\n",
      "black people stood up for themselves and fought for their rights, and only due to their voices, their protests, their sit ins, their marches, their demonstrations, their conferences, was racial segregation made unconstitutional in the united states.                        protest\n",
      "black people stood up for themselves and fought for their rights, and only due to their voices, their protests, their sit ins, their marches, their demonstrations, their conferences, was racial segregation made unconstitutional in the united states. unconstitutional united states\n",
      "black people stood up for themselves and fought for their rights, and only due to their voices, their protests, their sit ins, their marches, their demonstrations, their conferences, was racial segregation made unconstitutional in the united states.                  demonstration\n",
      "black people stood up for themselves and fought for their rights, and only due to their voices, their protests, their sit ins, their marches, their demonstrations, their conferences, was racial segregation made unconstitutional in the united states.                         marche\n",
      "black people stood up for themselves and fought for their rights, and only due to their voices, their protests, their sit ins, their marches, their demonstrations, their conferences, was racial segregation made unconstitutional in the united states.                      due voice\n",
      "black people stood up for themselves and fought for their rights, and only due to their voices, their protests, their sit ins, their marches, their demonstrations, their conferences, was racial segregation made unconstitutional in the united states.                     conference\n",
      "black people stood up for themselves and fought for their rights, and only due to their voices, their protests, their sit ins, their marches, their demonstrations, their conferences, was racial segregation made unconstitutional in the united states.             racial segregation\n",
      "black people stood up for themselves and fought for their rights, and only due to their voices, their protests, their sit ins, their marches, their demonstrations, their conferences, was racial segregation made unconstitutional in the united states.                   black people\n",
      "black people stood up for themselves and fought for their rights, and only due to their voices, their protests, their sit ins, their marches, their demonstrations, their conferences, was racial segregation made unconstitutional in the united states.                    fight right\n",
      "                                                                                                                                                                                 black people, back then and now, know that atticus finch does not exist.                   black people\n",
      "                                                                                   and because no one put in better words than the one and only james baldwin, i will quote a passage from one of his amazing interviews on the dick cavett show in 1968.          one amazing interview\n",
      "                                                                                   and because no one put in better words than the one and only james baldwin, i will quote a passage from one of his amazing interviews on the dick cavett show in 1968.                    dick cavett\n",
      "                                                                                   and because no one put in better words than the one and only james baldwin, i will quote a passage from one of his amazing interviews on the dick cavett show in 1968.                      well word\n",
      "                                                                                   and because no one put in better words than the one and only james baldwin, i will quote a passage from one of his amazing interviews on the dick cavett show in 1968.              one james baldwin\n",
      "                                                                                                one could say that this is baldwin s response to the cry of not all white people james baldwin i do not know what most white people in this country feel.           white people country\n",
      "                                                                                                one could say that this is baldwin s response to the cry of not all white people james baldwin i do not know what most white people in this country feel.                            one\n",
      "                                                                                                one could say that this is baldwin s response to the cry of not all white people james baldwin i do not know what most white people in this country feel.               baldwin response\n",
      "                                                                                                                                                                             but i can only conclude what they feel from the state of their institutions.              state institution\n",
      "                                                                                                       i do not know if white christians hate negroes or not, but i know we have a christian church which is white and a christian church which is black.                          negro\n",
      "                                                                                                       i do not know if white christians hate negroes or not, but i know we have a christian church which is white and a christian church which is black.               christian church\n",
      "                                                                                                       i do not know if white christians hate negroes or not, but i know we have a christian church which is white and a christian church which is black.               white christians\n",
      "                                                                                                                                                              i do not know whether the labor unions and their bosses really hate me that does not matter                         matter\n",
      "                                                                                                                                                              i do not know whether the labor unions and their bosses really hate me that does not matter               labor union boss\n",
      "                                                                                                                                                                                                              but i know i am not allowed in their union.                          union\n",
      "                                                                                                             i do not know whether the real estate lobby has anything against black people, but i know the real estate lobby is keeping me in the ghetto.              real estate lobby\n",
      "                                                                                                             i do not know whether the real estate lobby has anything against black people, but i know the real estate lobby is keeping me in the ghetto.                         ghetto\n",
      "                                                                                                             i do not know whether the real estate lobby has anything against black people, but i know the real estate lobby is keeping me in the ghetto.                   black people\n",
      "                                                                                                     i do not know if the board of education hates black people, but i know the textbooks they give my children to read and the schools we have to go to.                         school\n",
      "                                                                                                     i do not know if the board of education hates black people, but i know the textbooks they give my children to read and the schools we have to go to.           know board education\n",
      "                                                                                                     i do not know if the board of education hates black people, but i know the textbooks they give my children to read and the schools we have to go to.                          child\n",
      "                                                                                                     i do not know if the board of education hates black people, but i know the textbooks they give my children to read and the schools we have to go to.                   black people\n",
      "                                                                                                     i do not know if the board of education hates black people, but i know the textbooks they give my children to read and the schools we have to go to.                       textbook\n",
      "                                                                                                                                                                                                                               now, this is the evidence.                     , evidence\n",
      "                                                                          you want me to make an act of faith, risking myself, my wife, my woman, my sister, my children on some idealism which you assure me exists in america, which i have never seen.                          woman\n",
      "                                                                          you want me to make an act of faith, risking myself, my wife, my woman, my sister, my children on some idealism which you assure me exists in america, which i have never seen.                         sister\n",
      "                                                                          you want me to make an act of faith, risking myself, my wife, my woman, my sister, my children on some idealism which you assure me exists in america, which i have never seen.          child idealism assure\n",
      "                                                                          you want me to make an act of faith, risking myself, my wife, my woman, my sister, my children on some idealism which you assure me exists in america, which i have never seen.                           wife\n",
      "                                                                          you want me to make an act of faith, risking myself, my wife, my woman, my sister, my children on some idealism which you assure me exists in america, which i have never seen.                        america\n",
      "                                                                          you want me to make an act of faith, risking myself, my wife, my woman, my sister, my children on some idealism which you assure me exists in america, which i have never seen.                      act faith\n",
      "                                                                          you want me to make an act of faith, risking myself, my wife, my woman, my sister, my children on some idealism which you assure me exists in america, which i have never seen.                        risking\n",
      "                                                                                                                                                                                                              this right here is what i am talking about.                  right talking\n",
      "                                                                                                                                                                                                          to kill a mockingbird plays into this idealism.                       idealism\n",
      "                                                                                                                                                 although the book touches on the horrors of racism in the deep south, it is a strangely comforting read.                           book\n",
      "                                                                                                                                                 although the book touches on the horrors of racism in the deep south, it is a strangely comforting read.                  horror racism\n",
      "                                                                                                                                                 although the book touches on the horrors of racism in the deep south, it is a strangely comforting read.                           read\n",
      "                                                                                                                                                                    a terrible injustice is done, but at the end the status quo is reassuringly restored.             terrible injustice\n",
      "                                                                                                                                                                    a terrible injustice is done, but at the end the status quo is reassuringly restored.                 end status quo\n",
      "                                                            as a reader you are never allowed to feel with tom robinson, the black man who is innocently convicted for raping a white woman, because all the black characters in this tale are sidelined.           black character tale\n",
      "                                                            as a reader you are never allowed to feel with tom robinson, the black man who is innocently convicted for raping a white woman, because all the black characters in this tale are sidelined.               rape white woman\n",
      "                                                            as a reader you are never allowed to feel with tom robinson, the black man who is innocently convicted for raping a white woman, because all the black characters in this tale are sidelined.                         reader\n",
      "                                                            as a reader you are never allowed to feel with tom robinson, the black man who is innocently convicted for raping a white woman, because all the black characters in this tale are sidelined.                   tom robinson\n",
      "                                                            as a reader you are never allowed to feel with tom robinson, the black man who is innocently convicted for raping a white woman, because all the black characters in this tale are sidelined.                      black man\n",
      "                                                                                                  this story should be about them, because how else would you be able to convince the white moderate in the 1960s that black people are actually people .            white moderate 1960\n",
      "                                                                                                  this story should be about them, because how else would you be able to convince the white moderate in the 1960s that black people are actually people .                   black people\n",
      "                                                                                                  this story should be about them, because how else would you be able to convince the white moderate in the 1960s that black people are actually people .                actually people\n",
      "                                                                                                                                                                          the closest insight we get to a black character is the family s cook calpurnia.         black character family\n",
      "                                                                                                                                                                          the closest insight we get to a black character is the family s cook calpurnia.                  close insight\n",
      "                                                                                                                                                                          the closest insight we get to a black character is the family s cook calpurnia.                      calpurnia\n",
      "                                                                                                          calpurnia is in the fictional tradition of the happy black , the contented slave the descendent of the ever loyal mammy in gone with the wind .               ever loyal mammy\n",
      "                                                                               and the rest of the black community is depicted as a group of simple, respectful folk passive and helpless and all touchingly grateful to atticus finch the white saviour.           rest black community\n",
      "                                                                                                                                                                                                                 we never see any of them angry or upset.                    angry upset\n",
      "                                                                                         we never see the effect of tom robinson s death on his family up close we do not witness helen, tom s wife, grieving and scout never wonders about his children.                          scout\n",
      "                                                                                         we never see the effect of tom robinson s death on his family up close we do not witness helen, tom s wife, grieving and scout never wonders about his children.                       tom wife\n",
      "                                                                                         we never see the effect of tom robinson s death on his family up close we do not witness helen, tom s wife, grieving and scout never wonders about his children.                          child\n",
      "                                                                                                                                                                                                 their distress is kept at safe distance from the reader.                       distress\n",
      "                                                                                                                                                                                                 their distress is kept at safe distance from the reader.           safe distance reader\n",
      "                                                                                                                                                                         i was very angry after finishing this book, and i am still angry up to this day.                still angry day\n",
      "                                                                                                                                                                         i was very angry after finishing this book, and i am still angry up to this day.           angry finishing book\n",
      "                                                                                                                                                             not necessarily at harper lee, but at our society as a whole, and at our educational system.             educational system\n",
      "                                                                                                                                                             not necessarily at harper lee, but at our society as a whole, and at our educational system.                        society\n",
      "                                                                                                                                                             not necessarily at harper lee, but at our society as a whole, and at our educational system.         necessarily harper lee\n",
      "                                                                                                                                                                    why do we constantly uplift white narratives, whilst brushing over marginalized ones?                       brushing\n",
      "                                                                                                                                                                    why do we constantly uplift white narratives, whilst brushing over marginalized ones?                white narrative\n",
      "                                                                                                                                                                    why do we constantly uplift white narratives, whilst brushing over marginalized ones?                            one\n",
      "                                                                                why are not our kids reading if beale street could talk by james baldwin a book dealing with the exact same topic a black man getting falsely accused of raping a woman ?                     rape woman\n",
      "                                                                                why are not our kids reading if beale street could talk by james baldwin a book dealing with the exact same topic a black man getting falsely accused of raping a woman ?             james baldwin book\n",
      "                                                                                why are not our kids reading if beale street could talk by james baldwin a book dealing with the exact same topic a black man getting falsely accused of raping a woman ?                            kid\n",
      "                                                                                why are not our kids reading if beale street could talk by james baldwin a book dealing with the exact same topic a black man getting falsely accused of raping a woman ?                   beale street\n",
      "                                                                                                                                                                                                          why is not lorraine hansberry required reading?                        reading\n",
      "                                                                                                                                                                                                          why is not lorraine hansberry required reading?             lorraine hansberry\n",
      "                                                                                                                                                       why are we still relying on white narratives, when talking about black people and their struggles?                white narrative\n",
      "                                                                                                                                                       why are we still relying on white narratives, when talking about black people and their struggles?                   black people\n",
      "                                         since finishing this book, i started reading the history of legal education in the united states and i wanted to share some interesting facts, because i could not believe how absurd to kill a mockingbird was.                           book\n",
      "                                         since finishing this book, i started reading the history of legal education in the united states and i wanted to share some interesting facts, because i could not believe how absurd to kill a mockingbird was.               interesting fact\n",
      "                                         since finishing this book, i started reading the history of legal education in the united states and i wanted to share some interesting facts, because i could not believe how absurd to kill a mockingbird was.                        history\n",
      "                                                                                             this story is, supposedly, set in the deep south in the 1930s, where atticus finch, our white saviour, takes it upon himself to defend a black man at court.                          story\n",
      "                                                                                             this story is, supposedly, set in the deep south in the 1930s, where atticus finch, our white saviour, takes it upon himself to defend a black man at court.                  atticus finch\n",
      "                                                                                             this story is, supposedly, set in the deep south in the 1930s, where atticus finch, our white saviour, takes it upon himself to defend a black man at court.                , white saviour\n",
      "                                                                                             this story is, supposedly, set in the deep south in the 1930s, where atticus finch, our white saviour, takes it upon himself to defend a black man at court.                deep south 1930\n",
      "                                              by the end of lee s novel we are led to believe that atticus had a great chance of actually getting tom robinson acquitted, if the latter had just been a good n gger and did not try to escape on his own.                      lee novel\n",
      "                                              by the end of lee s novel we are led to believe that atticus had a great chance of actually getting tom robinson acquitted, if the latter had just been a good n gger and did not try to escape on his own.           atticus great chance\n",
      "                                              by the end of lee s novel we are led to believe that atticus had a great chance of actually getting tom robinson acquitted, if the latter had just been a good n gger and did not try to escape on his own.                   tom robinson\n",
      "                                              by the end of lee s novel we are led to believe that atticus had a great chance of actually getting tom robinson acquitted, if the latter had just been a good n gger and did not try to escape on his own.                         escape\n",
      "                                                                                                                                                                                                so, i just wanted to know how realistic that scenario is.        know realistic scenario\n",
      "                                                                                                                                                                                         all of the information is related to the 1930s southern setting.                    information\n",
      "                                                                                                                                                                                         all of the information is related to the 1930s southern setting.         1930s southern setting\n",
      "             here is what i have learned most southern lawyers readily accepted black clients for routine economic cases property, tort, contract, dept, insurance and minor criminal cases that did not threaten the south s system of racial hierarchy.                southern lawyer\n",
      "             here is what i have learned most southern lawyers readily accepted black clients for routine economic cases property, tort, contract, dept, insurance and minor criminal cases that did not threaten the south s system of racial hierarchy.                   black client\n",
      "                                              it was virtually impossible, however, to find a southern white lawyer who would accept a major criminal case involving a white victim or a politically charged case that in any way challenged segregation.            major criminal case\n",
      "                                              it was virtually impossible, however, to find a southern white lawyer who would accept a major criminal case involving a white victim or a politically charged case that in any way challenged segregation.                    segregation\n",
      "                                              it was virtually impossible, however, to find a southern white lawyer who would accept a major criminal case involving a white victim or a politically charged case that in any way challenged segregation.          southern white lawyer\n",
      "                                                                                only the combination of direct action, community organizing and legal strategy with the help of black lawyers, made the defense of black men and women at court possible.                      community\n",
      "                                                                                only the combination of direct action, community organizing and legal strategy with the help of black lawyers, made the defense of black men and women at court possible.                        defense\n",
      "                                                                                only the combination of direct action, community organizing and legal strategy with the help of black lawyers, made the defense of black men and women at court possible.      combination direct action\n",
      "                                                                                only the combination of direct action, community organizing and legal strategy with the help of black lawyers, made the defense of black men and women at court possible.                   black lawyer\n",
      "                                                                                only the combination of direct action, community organizing and legal strategy with the help of black lawyers, made the defense of black men and women at court possible.                 legal strategy\n",
      "                                                                                                                  in the lockett case, the black community in tulsa survived largely because black lawyers were able to defend the community s interests.           largely black lawyer\n",
      "                                                                                                                  in the lockett case, the black community in tulsa survived largely because black lawyers were able to defend the community s interests.      defend community interest\n",
      "                                                                                         in 1934, black lawyers represented george crawford, a black man accused of brutally murdering a wealthy white woman no white lawyer would take crawford s case .                  crawford case\n",
      "                                                                                         in 1934, black lawyers represented george crawford, a black man accused of brutally murdering a wealthy white woman no white lawyer would take crawford s case .                   black lawyer\n",
      "                                                                                         in 1934, black lawyers represented george crawford, a black man accused of brutally murdering a wealthy white woman no white lawyer would take crawford s case .                      black man\n",
      "                                                                                         in 1934, black lawyers represented george crawford, a black man accused of brutally murdering a wealthy white woman no white lawyer would take crawford s case .                george crawford\n",
      "                                                                                                                                                                    in the end, crawford got a sentence of life imprisonment instead of a death sentence.                       crawford\n",
      "                                                                              and this verdict had to be seen as an accomplishment by the black lawyers and the black community as a whole, because life imprisonment was as good as it was going to get.                        verdict\n",
      "                                                                              and this verdict had to be seen as an accomplishment by the black lawyers and the black community as a whole, because life imprisonment was as good as it was going to get.                black community\n",
      "                                                                                                                                                           oftentimes, black lawyers took serious criminal cases without a fee or at a very reduced rate.                   black lawyer\n",
      "                                                                                                                                                           oftentimes, black lawyers took serious criminal cases without a fee or at a very reduced rate.                fee reduce rate\n",
      "                                                                                                                                                           oftentimes, black lawyers took serious criminal cases without a fee or at a very reduced rate.          serious criminal case\n",
      "                                                                                                                                                                                        this was well appreciated by their communities, but also a given.     well appreciated community\n",
      "                                                                                                                                                                                                 none of that got translated on the pages of lee s novel.                           none\n",
      "                                                                                                                                                   the black characters do absolutely nothing, except sending atticus food, because they are so grateful.                black character\n",
      "                                                                                                                                                   the black characters do absolutely nothing, except sending atticus food, because they are so grateful.             absolutely nothing\n",
      "                                                                                                                                                   the black characters do absolutely nothing, except sending atticus food, because they are so grateful.                   atticus food\n",
      "                                                               insert snort here this book appears to uphold the standard of racial equality de facto it is about the white middle class patting themselves on the back for not thinking racist thoughts.                 racist thought\n",
      "                                                               insert snort here this book appears to uphold the standard of racial equality de facto it is about the white middle class patting themselves on the back for not thinking racist thoughts.              insert snort book\n",
      "                                                                                                                                                                i am sorry to break it to you, miss maudie, but you will not get a sugar cookie for that.                   sugar cookie\n",
      "                                                                                                                                                                i am sorry to break it to you, miss maudie, but you will not get a sugar cookie for that.                    miss maudie\n",
      "                                                                                                                                              however, we should not portray these characters in a positive light, there is nothing admirable about them.                      character\n",
      "                                                                                                                                              however, we should not portray these characters in a positive light, there is nothing admirable about them.                 positive light\n",
      "                                                                                                                                              however, we should not portray these characters in a positive light, there is nothing admirable about them.                        nothing\n",
      "                                                                                                                                                   after all... he who passively accepts evil is as much involved in it as he who helps to perpetrate it.                           evil\n",
      "                                                                                                                                                                            he who accepts evil without protesting against is really cooperating with it.                           evil\n",
      "                                                                                                                                                                                                                                  martin luther king, jr.             martin luther king\n",
      "                                                                                                                                                                                                                                  martin luther king, jr.                             jr\n"
     ]
    }
   ],
   "source": [
    "# Select one sample review\n",
    "sample_review = df_reviews.iloc[0]\n",
    "\n",
    "# Extract sentences from the sample review\n",
    "sample_sentences = sample_review['sentences']\n",
    "\n",
    "# Extract aspects from each sentence\n",
    "aspect_data = []\n",
    "for sentence in sample_sentences:\n",
    "    aspects = extract_aspects(sentence)  # Extract aspects\n",
    "    for aspect in aspects:\n",
    "        aspect_data.append((sentence, aspect))  # Store sentence-aspect pairs\n",
    "\n",
    "# Convert to DataFrame for better visualization\n",
    "aspect_df = pd.DataFrame(aspect_data, columns=['Sentence', 'Extracted Aspect'])\n",
    "\n",
    "# Display results in a readable format\n",
    "print(\"\\nFiltered Extracted Aspects from Sample Review:\\n\")\n",
    "print(aspect_df.to_string(index=False))  # Print without default index\n"
   ]
  },
  {
   "cell_type": "code",
   "execution_count": null,
   "metadata": {},
   "outputs": [],
   "source": [
    "def extract_aspects(text):\n",
    "    doc = nlp(text)\n",
    "    aspects = [chunk.text for chunk in doc.noun_chunks]  # Extract noun phrases (aspects)\n",
    "    return aspects\n",
    "\n",
    "# Apply aspect extraction to each sentence\n",
    "df_reviews['aspect_sentences'] = df_reviews['sentences'].apply(lambda sentences: [(aspect, sentence) \n",
    "    for sentence in sentences for aspect in extract_aspects(sentence)])\n",
    "\n",
    "# Flatten dataset: Each row contains (aspect, sentence)\n",
    "aspect_data = []\n",
    "for _, row in df_reviews.iterrows():\n",
    "    for aspect, sentence in row['aspect_sentences']:\n",
    "        aspect_data.append((row['Book'], aspect, sentence))\n",
    "\n",
    "# Convert to DataFrame\n",
    "aspect_df = pd.DataFrame(aspect_data, columns=['Book', 'Aspect', 'Sentence'])"
   ]
  },
  {
   "cell_type": "code",
   "execution_count": 52,
   "metadata": {},
   "outputs": [],
   "source": [
    "import spacy\n",
    "from nltk.corpus import stopwords\n",
    "import nltk\n",
    "\n",
    "# Load SpaCy English NLP model\n",
    "nlp = spacy.load(\"en_core_web_sm\")\n",
    "\n",
    "# Download NLTK stopwords\n",
    "nltk.download('stopwords')\n",
    "stop_words = set(stopwords.words('english'))\n",
    "\n",
    "def extract_aspects(text):\n",
    "    doc = nlp(text)\n",
    "    aspects = []\n",
    "    \n",
    "    for chunk in doc.noun_chunks:\n",
    "        aspect = chunk.lemma_.strip().lower()  # Convert to lowercase & lemmatize\n",
    "\n",
    "        # Remove stopwords & short words\n",
    "        if aspect not in stop_words and len(aspect) > 2:\n",
    "            aspects.append(aspect)\n",
    "\n",
    "    return aspects\n"
   ]
  },
  {
   "cell_type": "code",
   "execution_count": 49,
   "metadata": {},
   "outputs": [
    {
     "name": "stdout",
     "output_type": "stream",
     "text": [
      "Test Sentence: The characters were well-developed, but the plot was slow.\n",
      "Extracted Aspects: ['the character', 'the plot']\n"
     ]
    }
   ],
   "source": [
    "test_sentence = \"The characters were well-developed, but the plot was slow.\"\n",
    "print(\"Test Sentence:\", test_sentence)\n",
    "print(\"Extracted Aspects:\", extract_aspects(test_sentence))\n"
   ]
  },
  {
   "cell_type": "code",
   "execution_count": 6,
   "metadata": {},
   "outputs": [
    {
     "name": "stderr",
     "output_type": "stream",
     "text": [
      "Device set to use cpu\n"
     ]
    }
   ],
   "source": [
    "from transformers import AutoTokenizer, AutoModelForSequenceClassification, pipeline\n",
    "\n",
    "# Load the ABSA model and tokenizer\n",
    "model_name = \"yangheng/deberta-v3-base-absa-v1.1\"\n",
    "tokenizer = AutoTokenizer.from_pretrained(model_name)\n",
    "model = AutoModelForSequenceClassification.from_pretrained(model_name)\n",
    "\n",
    "classifier = pipeline(\"text-classification\", model=model, tokenizer=tokenizer)"
   ]
  },
  {
   "cell_type": "code",
   "execution_count": 8,
   "metadata": {},
   "outputs": [
    {
     "name": "stdout",
     "output_type": "stream",
     "text": [
      "Aspect: plot, Sentiment: Neutral, Confidence: 0.7157\n",
      "Aspect: characters, Sentiment: Neutral, Confidence: 0.6063\n",
      "Aspect: writing style, Sentiment: Positive, Confidence: 0.9118\n"
     ]
    }
   ],
   "source": [
    "# Define aspects to analyze\n",
    "aspects = ['plot', 'characters', 'writing style']\n",
    "\n",
    "# Review sentence\n",
    "sentence = \"BUT ANYWAY this is a five star review and that means I don’t have to complain!!! Who knew!! All new to me.\"\n",
    "\n",
    "\n",
    "# Run sentiment analysis for each aspect\n",
    "for aspect in aspects:\n",
    "    result = classifier(sentence, text_pair=aspect)\n",
    "    print(f\"Aspect: {aspect}, Sentiment: {result[0]['label']}, Confidence: {result[0]['score']:.4f}\")"
   ]
  },
  {
   "cell_type": "code",
   "execution_count": null,
   "metadata": {},
   "outputs": [],
   "source": [
    "df_reviews[['Review', 'cleaned_review', 'processed_review']].sample(5)"
   ]
  },
  {
   "cell_type": "code",
   "execution_count": 53,
   "metadata": {},
   "outputs": [
    {
     "name": "stdout",
     "output_type": "stream",
     "text": [
      "Total Unique Books: 1096\n",
      "Total Reviews: 23051\n"
     ]
    }
   ],
   "source": [
    "# Count unique books\n",
    "num_unique_books = df['Book'].nunique()\n",
    "\n",
    "# Count total reviews\n",
    "num_total_reviews = df.shape[0]\n",
    "\n",
    "print(f\"Total Unique Books: {num_unique_books}\")\n",
    "print(f\"Total Reviews: {num_total_reviews}\")"
   ]
  },
  {
   "cell_type": "code",
   "execution_count": 59,
   "metadata": {},
   "outputs": [
    {
     "name": "stdout",
     "output_type": "stream",
     "text": [
      "count    1096.000000\n",
      "mean       21.031934\n",
      "std         7.187247\n",
      "min         1.000000\n",
      "25%        16.000000\n",
      "50%        23.000000\n",
      "75%        27.000000\n",
      "max        30.000000\n",
      "Name: count, dtype: float64\n"
     ]
    },
    {
     "data": {
      "image/png": "[encoded data removed]",
      "text/plain": [
       "<Figure size 1000x500 with 1 Axes>"
      ]
     },
     "metadata": {},
     "output_type": "display_data"
    }
   ],
   "source": [
    "import numpy as np\n",
    "import matplotlib.pyplot as plt\n",
    "\n",
    "# Count reviews per book\n",
    "review_counts = df['Book'].value_counts()\n",
    "\n",
    "# Summary statistics\n",
    "print(review_counts.describe())\n",
    "\n",
    "# Plot histogram of review counts per book\n",
    "plt.figure(figsize=(10, 5))\n",
    "plt.hist(review_counts, bins=np.arange(1, review_counts.max() + 1, 2), color='steelblue', edgecolor='black')\n",
    "plt.xlabel(\"Number of Reviews per Book\")\n",
    "plt.ylabel(\"Number of Books\")\n",
    "plt.title(\"Distribution of Review Counts per Book\")\n",
    "plt.grid(axis='y', linestyle='--', alpha=0.7)\n",
    "plt.show()\n"
   ]
  },
  {
   "cell_type": "code",
   "execution_count": null,
   "metadata": {},
   "outputs": [
    {
     "data": {
      "image/png": "[encoded data removed]",
      "text/plain": [
       "<Figure size 1000x500 with 1 Axes>"
      ]
     },
     "metadata": {},
     "output_type": "display_data"
    }
   ],
   "source": [
    "# Compute review length (word count)\n",
    "df['review_length'] = df['cleaned_review'].apply(lambda x: len(x.split()))\n",
    "\n",
    "# Plot review length distribution\n",
    "plt.figure(figsize=(10, 5))\n",
    "plt.hist(df['review_length'], bins=30, color='lightcoral', edgecolor='black')\n",
    "plt.xlabel(\"Review Length (words)\")\n",
    "plt.ylabel(\"Frequency\")\n",
    "plt.title(\"Distribution of Review Lengths\")\n",
    "plt.show()\n"
   ]
  },
  {
   "cell_type": "code",
   "execution_count": 55,
   "metadata": {},
   "outputs": [
    {
     "data": {
      "image/png": "[encoded data removed]",
      "text/plain": [
       "<Figure size 1000x500 with 1 Axes>"
      ]
     },
     "metadata": {},
     "output_type": "display_data"
    }
   ],
   "source": [
    "# Extract year from 'Review Date'\n",
    "df['Review Year'] = df['Review Date'].dt.year\n",
    "\n",
    "# Count reviews per year\n",
    "reviews_per_year = df.groupby('Review Year').size()\n",
    "\n",
    "# Plot reviews per year\n",
    "plt.figure(figsize=(10, 5))\n",
    "reviews_per_year.plot(kind='line', marker='o', color='green', linestyle='dashed')\n",
    "plt.xlabel(\"Year\")\n",
    "plt.ylabel(\"Number of Reviews\")\n",
    "plt.title(\"Number of Reviews Over Time\")\n",
    "plt.grid()\n",
    "plt.show()\n"
   ]
  }
 ],
 "metadata": {
  "kernelspec": {
   "display_name": "venv",
   "language": "python",
   "name": "python3"
  },
  "language_info": {
   "codemirror_mode": {
    "name": "ipython",
    "version": 3
   },
   "file_extension": ".py",
   "mimetype": "text/x-python",
   "name": "python",
   "nbconvert_exporter": "python",
   "pygments_lexer": "ipython3",
   "version": "3.9.9"
  }
 },
 "nbformat": 4,
 "nbformat_minor": 2
}
