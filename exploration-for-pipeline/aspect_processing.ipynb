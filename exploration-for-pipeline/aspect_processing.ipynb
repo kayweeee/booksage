{
 "cells": [
  {
   "cell_type": "code",
   "execution_count": 3,
   "metadata": {},
   "outputs": [],
   "source": [
    "import pandas as pd\n",
    "import re"
   ]
  },
  {
   "cell_type": "markdown",
   "metadata": {},
   "source": [
    "Process Book Reviews dataset from Kaggle"
   ]
  },
  {
   "cell_type": "code",
   "execution_count": 149,
   "metadata": {},
   "outputs": [
    {
     "data": {
      "text/html": [
       "<div>\n",
       "<style scoped>\n",
       "    .dataframe tbody tr th:only-of-type {\n",
       "        vertical-align: middle;\n",
       "    }\n",
       "\n",
       "    .dataframe tbody tr th {\n",
       "        vertical-align: top;\n",
       "    }\n",
       "\n",
       "    .dataframe thead th {\n",
       "        text-align: right;\n",
       "    }\n",
       "</style>\n",
       "<table border=\"1\" class=\"dataframe\">\n",
       "  <thead>\n",
       "    <tr style=\"text-align: right;\">\n",
       "      <th></th>\n",
       "      <th>Unnamed: 0</th>\n",
       "      <th>Book</th>\n",
       "      <th>Review</th>\n",
       "      <th>Review Date</th>\n",
       "    </tr>\n",
       "  </thead>\n",
       "  <tbody>\n",
       "    <tr>\n",
       "      <th>0</th>\n",
       "      <td>0</td>\n",
       "      <td>To Kill a Mockingbird</td>\n",
       "      <td>/// gentle reminder that this is not the time ...</td>\n",
       "      <td>March 24, 2022</td>\n",
       "    </tr>\n",
       "    <tr>\n",
       "      <th>1</th>\n",
       "      <td>1</td>\n",
       "      <td>To Kill a Mockingbird</td>\n",
       "      <td>\\n|\\n|6.0 stars. I know I am risking a serious...</td>\n",
       "      <td>May 24, 2011</td>\n",
       "    </tr>\n",
       "    <tr>\n",
       "      <th>2</th>\n",
       "      <td>2</td>\n",
       "      <td>To Kill a Mockingbird</td>\n",
       "      <td>\\n|\\n|Looking for a new book but don't want to...</td>\n",
       "      <td>December 10, 2020</td>\n",
       "    </tr>\n",
       "    <tr>\n",
       "      <th>3</th>\n",
       "      <td>3</td>\n",
       "      <td>To Kill a Mockingbird</td>\n",
       "      <td>To Kill a Mockingbird, Harper Lee|To Kill a Mo...</td>\n",
       "      <td>July 1, 2022</td>\n",
       "    </tr>\n",
       "    <tr>\n",
       "      <th>4</th>\n",
       "      <td>4</td>\n",
       "      <td>To Kill a Mockingbird</td>\n",
       "      <td>Why is it when I pick up | To Kill A Mockingbi...</td>\n",
       "      <td>October 25, 2009</td>\n",
       "    </tr>\n",
       "  </tbody>\n",
       "</table>\n",
       "</div>"
      ],
      "text/plain": [
       "   Unnamed: 0                   Book  \\\n",
       "0           0  To Kill a Mockingbird   \n",
       "1           1  To Kill a Mockingbird   \n",
       "2           2  To Kill a Mockingbird   \n",
       "3           3  To Kill a Mockingbird   \n",
       "4           4  To Kill a Mockingbird   \n",
       "\n",
       "                                              Review        Review Date  \n",
       "0  /// gentle reminder that this is not the time ...     March 24, 2022  \n",
       "1  \\n|\\n|6.0 stars. I know I am risking a serious...       May 24, 2011  \n",
       "2  \\n|\\n|Looking for a new book but don't want to...  December 10, 2020  \n",
       "3  To Kill a Mockingbird, Harper Lee|To Kill a Mo...       July 1, 2022  \n",
       "4  Why is it when I pick up | To Kill A Mockingbi...   October 25, 2009  "
      ]
     },
     "execution_count": 149,
     "metadata": {},
     "output_type": "execute_result"
    }
   ],
   "source": [
    "# Load dataset\n",
    "df = pd.read_csv(\"data/Book Reviews.csv\")\n",
    "\n",
    "# Display dataset\n",
    "df.head()"
   ]
  },
  {
   "cell_type": "code",
   "execution_count": 150,
   "metadata": {},
   "outputs": [
    {
     "data": {
      "text/plain": [
       "Unnamed: 0      int64\n",
       "Book           object\n",
       "Review         object\n",
       "Review Date    object\n",
       "dtype: object"
      ]
     },
     "execution_count": 150,
     "metadata": {},
     "output_type": "execute_result"
    }
   ],
   "source": [
    "df.dtypes"
   ]
  },
  {
   "cell_type": "code",
   "execution_count": 151,
   "metadata": {},
   "outputs": [
    {
     "data": {
      "text/plain": [
       "(32081, 4)"
      ]
     },
     "execution_count": 151,
     "metadata": {},
     "output_type": "execute_result"
    }
   ],
   "source": [
    "df.shape"
   ]
  },
  {
   "cell_type": "code",
   "execution_count": 152,
   "metadata": {},
   "outputs": [
    {
     "data": {
      "text/plain": [
       "title          object\n",
       "review_text    object\n",
       "dtype: object"
      ]
     },
     "execution_count": 152,
     "metadata": {},
     "output_type": "execute_result"
    }
   ],
   "source": [
    "df = df.drop(columns=['Unnamed: 0', 'Review Date'])\n",
    "df.rename(columns={'Book': 'title', 'Review': 'review_text'}, inplace=True)\n",
    "\n",
    "df.dtypes"
   ]
  },
  {
   "cell_type": "code",
   "execution_count": 153,
   "metadata": {},
   "outputs": [
    {
     "name": "stdout",
     "output_type": "stream",
     "text": [
      "Dataset shape after dropping empty values: (31772, 2)\n"
     ]
    }
   ],
   "source": [
    "df = df.dropna(subset=['title', 'review_text'])\n",
    "\n",
    "print(f\"Dataset shape after dropping empty values: {df.shape}\")"
   ]
  },
  {
   "cell_type": "code",
   "execution_count": 154,
   "metadata": {},
   "outputs": [],
   "source": [
    "from langdetect import detect\n",
    "from langdetect.lang_detect_exception import LangDetectException\n",
    "\n",
    "def detect_language(text):\n",
    "    try:\n",
    "        return detect(text)\n",
    "    except LangDetectException:\n",
    "        return \"unknown\"\n",
    "\n",
    "# Detect language\n",
    "df['language'] = df['review_text'].astype(str).apply(detect_language)"
   ]
  },
  {
   "cell_type": "code",
   "execution_count": 156,
   "metadata": {},
   "outputs": [
    {
     "data": {
      "text/html": [
       "<div>\n",
       "<style scoped>\n",
       "    .dataframe tbody tr th:only-of-type {\n",
       "        vertical-align: middle;\n",
       "    }\n",
       "\n",
       "    .dataframe tbody tr th {\n",
       "        vertical-align: top;\n",
       "    }\n",
       "\n",
       "    .dataframe thead th {\n",
       "        text-align: right;\n",
       "    }\n",
       "</style>\n",
       "<table border=\"1\" class=\"dataframe\">\n",
       "  <thead>\n",
       "    <tr style=\"text-align: right;\">\n",
       "      <th></th>\n",
       "      <th>review_text</th>\n",
       "      <th>language</th>\n",
       "    </tr>\n",
       "  </thead>\n",
       "  <tbody>\n",
       "    <tr>\n",
       "      <th>23433</th>\n",
       "      <td>So. This is an old story and terribly familiar...</td>\n",
       "      <td>en</td>\n",
       "    </tr>\n",
       "    <tr>\n",
       "      <th>20345</th>\n",
       "      <td>Anatole France took an old legend about the c...</td>\n",
       "      <td>en</td>\n",
       "    </tr>\n",
       "    <tr>\n",
       "      <th>4421</th>\n",
       "      <td>Είναι από αυτές τις φορές που τα πέντε αστεράκ...</td>\n",
       "      <td>el</td>\n",
       "    </tr>\n",
       "    <tr>\n",
       "      <th>8987</th>\n",
       "      <td>I've marked this book as \"read\" but actually I...</td>\n",
       "      <td>en</td>\n",
       "    </tr>\n",
       "    <tr>\n",
       "      <th>9801</th>\n",
       "      <td>Uno de los mejores libros del siglo XX|, al de...</td>\n",
       "      <td>es</td>\n",
       "    </tr>\n",
       "    <tr>\n",
       "      <th>25372</th>\n",
       "      <td>This is the fourth Galdós novel I have read, a...</td>\n",
       "      <td>en</td>\n",
       "    </tr>\n",
       "    <tr>\n",
       "      <th>7026</th>\n",
       "      <td>7/10</td>\n",
       "      <td>unknown</td>\n",
       "    </tr>\n",
       "    <tr>\n",
       "      <th>30634</th>\n",
       "      <td>I loved this book SO MUCH!!!! I have to say th...</td>\n",
       "      <td>en</td>\n",
       "    </tr>\n",
       "    <tr>\n",
       "      <th>17329</th>\n",
       "      <td>This collection of short stories had no discer...</td>\n",
       "      <td>en</td>\n",
       "    </tr>\n",
       "    <tr>\n",
       "      <th>12417</th>\n",
       "      <td>مگر میشود رنج های ورتر جوان را بخوانی و از زیب...</td>\n",
       "      <td>fa</td>\n",
       "    </tr>\n",
       "  </tbody>\n",
       "</table>\n",
       "</div>"
      ],
      "text/plain": [
       "                                             review_text language\n",
       "23433  So. This is an old story and terribly familiar...       en\n",
       "20345   Anatole France took an old legend about the c...       en\n",
       "4421   Είναι από αυτές τις φορές που τα πέντε αστεράκ...       el\n",
       "8987   I've marked this book as \"read\" but actually I...       en\n",
       "9801   Uno de los mejores libros del siglo XX|, al de...       es\n",
       "25372  This is the fourth Galdós novel I have read, a...       en\n",
       "7026                                                7/10  unknown\n",
       "30634  I loved this book SO MUCH!!!! I have to say th...       en\n",
       "17329  This collection of short stories had no discer...       en\n",
       "12417  مگر میشود رنج های ورتر جوان را بخوانی و از زیب...       fa"
      ]
     },
     "execution_count": 156,
     "metadata": {},
     "output_type": "execute_result"
    }
   ],
   "source": [
    "df[['review_text', 'language']].sample(10)"
   ]
  },
  {
   "cell_type": "code",
   "execution_count": 157,
   "metadata": {},
   "outputs": [
    {
     "name": "stdout",
     "output_type": "stream",
     "text": [
      "Dataset shape after removing non-English reviews: (23035, 2)\n"
     ]
    }
   ],
   "source": [
    "# Keep only English reviews\n",
    "df = df[df['language'] == 'en']\n",
    "\n",
    "df = df.drop(columns=['language'])\n",
    "\n",
    "print(f\"Dataset shape after removing non-English reviews: {df.shape}\")"
   ]
  },
  {
   "cell_type": "code",
   "execution_count": 158,
   "metadata": {},
   "outputs": [
    {
     "data": {
      "text/html": [
       "<div>\n",
       "<style scoped>\n",
       "    .dataframe tbody tr th:only-of-type {\n",
       "        vertical-align: middle;\n",
       "    }\n",
       "\n",
       "    .dataframe tbody tr th {\n",
       "        vertical-align: top;\n",
       "    }\n",
       "\n",
       "    .dataframe thead th {\n",
       "        text-align: right;\n",
       "    }\n",
       "</style>\n",
       "<table border=\"1\" class=\"dataframe\">\n",
       "  <thead>\n",
       "    <tr style=\"text-align: right;\">\n",
       "      <th></th>\n",
       "      <th>review_text</th>\n",
       "      <th>cleaned_review</th>\n",
       "    </tr>\n",
       "  </thead>\n",
       "  <tbody>\n",
       "    <tr>\n",
       "      <th>7107</th>\n",
       "      <td>There were a lot of interesting passages in th...</td>\n",
       "      <td>there were a lot of interesting passages in th...</td>\n",
       "    </tr>\n",
       "    <tr>\n",
       "      <th>19927</th>\n",
       "      <td>Sandwiched between Eclipse and Ancient Light t...</td>\n",
       "      <td>sandwiched between eclipse and ancient light t...</td>\n",
       "    </tr>\n",
       "    <tr>\n",
       "      <th>5973</th>\n",
       "      <td>\"Charish the cathedrals of your souls\"...|This...</td>\n",
       "      <td>charish the cathedrals of your souls...this no...</td>\n",
       "    </tr>\n",
       "    <tr>\n",
       "      <th>9451</th>\n",
       "      <td>I like Jim Crace a great deal, and his Gift of...</td>\n",
       "      <td>i like jim crace a great deal, and his gift of...</td>\n",
       "    </tr>\n",
       "    <tr>\n",
       "      <th>4336</th>\n",
       "      <td>This book outraged many Irish readers, with it...</td>\n",
       "      <td>this book outraged many irish readers, with it...</td>\n",
       "    </tr>\n",
       "    <tr>\n",
       "      <th>31349</th>\n",
       "      <td>Gabrielle Roy has marvelous powers of descript...</td>\n",
       "      <td>gabrielle roy has marvelous powers of descript...</td>\n",
       "    </tr>\n",
       "    <tr>\n",
       "      <th>19105</th>\n",
       "      <td>Superbly written…a very enjoyable novel that l...</td>\n",
       "      <td>superbly writtena very enjoyable novel that le...</td>\n",
       "    </tr>\n",
       "    <tr>\n",
       "      <th>21967</th>\n",
       "      <td>A punnilinguistic |tour de farce|—a hip and sw...</td>\n",
       "      <td>a punnilinguistic tour de farcea hip and swing...</td>\n",
       "    </tr>\n",
       "    <tr>\n",
       "      <th>379</th>\n",
       "      <td>Of all the French literary classics, undoubted...</td>\n",
       "      <td>of all the french literary classics, undoubted...</td>\n",
       "    </tr>\n",
       "    <tr>\n",
       "      <th>21420</th>\n",
       "      <td>So much better than 'Fight Club.' It's not as ...</td>\n",
       "      <td>so much better than fight club. its not as gro...</td>\n",
       "    </tr>\n",
       "  </tbody>\n",
       "</table>\n",
       "</div>"
      ],
      "text/plain": [
       "                                             review_text  \\\n",
       "7107   There were a lot of interesting passages in th...   \n",
       "19927  Sandwiched between Eclipse and Ancient Light t...   \n",
       "5973   \"Charish the cathedrals of your souls\"...|This...   \n",
       "9451   I like Jim Crace a great deal, and his Gift of...   \n",
       "4336   This book outraged many Irish readers, with it...   \n",
       "31349  Gabrielle Roy has marvelous powers of descript...   \n",
       "19105  Superbly written…a very enjoyable novel that l...   \n",
       "21967  A punnilinguistic |tour de farce|—a hip and sw...   \n",
       "379    Of all the French literary classics, undoubted...   \n",
       "21420  So much better than 'Fight Club.' It's not as ...   \n",
       "\n",
       "                                          cleaned_review  \n",
       "7107   there were a lot of interesting passages in th...  \n",
       "19927  sandwiched between eclipse and ancient light t...  \n",
       "5973   charish the cathedrals of your souls...this no...  \n",
       "9451   i like jim crace a great deal, and his gift of...  \n",
       "4336   this book outraged many irish readers, with it...  \n",
       "31349  gabrielle roy has marvelous powers of descript...  \n",
       "19105  superbly writtena very enjoyable novel that le...  \n",
       "21967  a punnilinguistic tour de farcea hip and swing...  \n",
       "379    of all the french literary classics, undoubted...  \n",
       "21420  so much better than fight club. its not as gro...  "
      ]
     },
     "execution_count": 158,
     "metadata": {},
     "output_type": "execute_result"
    }
   ],
   "source": [
    "import re\n",
    "import html\n",
    "import contractions\n",
    "\n",
    "def clean_text(text):\n",
    "    if not isinstance(text, str):\n",
    "        return \"\"\n",
    "    \n",
    "    text = html.unescape(text)\n",
    "\n",
    "    # Remove unwanted special characters (but keep !, ?, and . for sentiment)\n",
    "    text = re.sub(r\"[^a-zA-Z0-9\\s!?.,]\", \"\", text)\n",
    "\n",
    "    text = contractions.fix(text)\n",
    "\n",
    "    # Remove extra whitespaces\n",
    "    text = re.sub(r\"\\s+\", \" \", text).strip()\n",
    "\n",
    "    text = text.lower()\n",
    "\n",
    "    return text\n",
    "\n",
    "df['cleaned_review'] = df['review_text'].astype(str).apply(clean_text)\n",
    "\n",
    "df[['review_text', 'cleaned_review']].sample(10)"
   ]
  },
  {
   "cell_type": "code",
   "execution_count": 159,
   "metadata": {},
   "outputs": [],
   "source": [
    "df.to_csv(\"cleaned_book_reviews.csv\", index=False)"
   ]
  },
  {
   "cell_type": "markdown",
   "metadata": {},
   "source": [
    "# Data Visualization"
   ]
  },
  {
   "cell_type": "code",
   "execution_count": null,
   "metadata": {},
   "outputs": [],
   "source": [
    "import numpy as np\n",
    "import matplotlib.pyplot as plt\n",
    "\n",
    "df = pd.read_csv('cleaned_book_reviews.csv')"
   ]
  },
  {
   "cell_type": "code",
   "execution_count": 168,
   "metadata": {},
   "outputs": [
    {
     "name": "stdout",
     "output_type": "stream",
     "text": [
      "Number of unique titles: 1091\n"
     ]
    }
   ],
   "source": [
    "num_unique_titles = df['title'].nunique()\n",
    "print(f\"Number of unique titles: {num_unique_titles}\")"
   ]
  },
  {
   "cell_type": "code",
   "execution_count": 162,
   "metadata": {},
   "outputs": [
    {
     "name": "stdout",
     "output_type": "stream",
     "text": [
      "count    1096.000000\n",
      "mean       21.017336\n",
      "std         7.197835\n",
      "min         1.000000\n",
      "25%        16.000000\n",
      "50%        23.000000\n",
      "75%        27.000000\n",
      "max        30.000000\n",
      "Name: count, dtype: float64\n"
     ]
    },
    {
     "data": {
      "image/png": "[encoded data removed]",
      "text/plain": [
       "<Figure size 1000x500 with 1 Axes>"
      ]
     },
     "metadata": {},
     "output_type": "display_data"
    }
   ],
   "source": [
    "# Count reviews per book\n",
    "review_counts = df['title'].value_counts()\n",
    "\n",
    "# Summary statistics\n",
    "print(review_counts.describe())\n",
    "\n",
    "# Plot histogram of review counts per book\n",
    "plt.figure(figsize=(10, 5))\n",
    "plt.hist(review_counts, bins=np.arange(1, review_counts.max() + 1, 2), color='steelblue', edgecolor='black')\n",
    "plt.xlabel(\"Number of Reviews per Book\")\n",
    "plt.ylabel(\"Number of Books\")\n",
    "plt.title(\"Distribution of Review Counts per Book\")\n",
    "plt.grid(axis='y', linestyle='--', alpha=0.7)\n",
    "plt.show()"
   ]
  },
  {
   "cell_type": "code",
   "execution_count": 163,
   "metadata": {},
   "outputs": [
    {
     "data": {
      "image/png": "[encoded data removed]",
      "text/plain": [
       "<Figure size 1000x500 with 1 Axes>"
      ]
     },
     "metadata": {},
     "output_type": "display_data"
    }
   ],
   "source": [
    "# Compute review length (word count)\n",
    "df['review_length'] = df['cleaned_review'].apply(lambda x: len(x.split()))\n",
    "\n",
    "# Plot review length distribution\n",
    "plt.figure(figsize=(10, 5))\n",
    "plt.hist(df['review_length'], bins=30, color='lightcoral', edgecolor='black')\n",
    "plt.xlabel(\"Review Length (words)\")\n",
    "plt.ylabel(\"Frequency\")\n",
    "plt.title(\"Distribution of Review Lengths\")\n",
    "plt.show()"
   ]
  },
  {
   "cell_type": "code",
   "execution_count": 164,
   "metadata": {},
   "outputs": [
    {
     "name": "stdout",
     "output_type": "stream",
     "text": [
      "count    23035.000000\n",
      "mean       374.118559\n",
      "std        407.248773\n",
      "min          1.000000\n",
      "25%        113.000000\n",
      "50%        251.000000\n",
      "75%        487.000000\n",
      "max       3672.000000\n",
      "Name: review_length, dtype: float64\n"
     ]
    }
   ],
   "source": [
    "review_length_stats = df['review_length'].describe()\n",
    "\n",
    "print(review_length_stats)"
   ]
  },
  {
   "cell_type": "code",
   "execution_count": 165,
   "metadata": {},
   "outputs": [
    {
     "name": "stdout",
     "output_type": "stream",
     "text": [
      "45.0\n"
     ]
    }
   ],
   "source": [
    "word_count_10th_percentile = df['review_length'].quantile(0.10)\n",
    "print(word_count_10th_percentile)"
   ]
  },
  {
   "cell_type": "code",
   "execution_count": 166,
   "metadata": {},
   "outputs": [],
   "source": [
    "df = df[df['review_length'] >= word_count_10th_percentile].reset_index(drop=True)\n",
    "\n",
    "df = df.drop(columns=['review_length'])"
   ]
  },
  {
   "cell_type": "code",
   "execution_count": null,
   "metadata": {},
   "outputs": [],
   "source": [
    "# Select m unique books\n",
    "selected_books = df['title'].drop_duplicates().head(5)\n",
    "\n",
    "# Filter reviews only for these n books\n",
    "testing_df = df[df['title'].isin(selected_books)]"
   ]
  },
  {
   "cell_type": "code",
   "execution_count": 171,
   "metadata": {},
   "outputs": [],
   "source": [
    "testing_df.to_csv(\"for_testing.csv\", index=False)"
   ]
  },
  {
   "cell_type": "markdown",
   "metadata": {},
   "source": [
    "# TESTING WITH SMALL DATASET"
   ]
  },
  {
   "cell_type": "code",
   "execution_count": 173,
   "metadata": {},
   "outputs": [
    {
     "data": {
      "text/html": [
       "<div>\n",
       "<style scoped>\n",
       "    .dataframe tbody tr th:only-of-type {\n",
       "        vertical-align: middle;\n",
       "    }\n",
       "\n",
       "    .dataframe tbody tr th {\n",
       "        vertical-align: top;\n",
       "    }\n",
       "\n",
       "    .dataframe thead th {\n",
       "        text-align: right;\n",
       "    }\n",
       "</style>\n",
       "<table border=\"1\" class=\"dataframe\">\n",
       "  <thead>\n",
       "    <tr style=\"text-align: right;\">\n",
       "      <th></th>\n",
       "      <th>title</th>\n",
       "      <th>review_text</th>\n",
       "      <th>cleaned_review</th>\n",
       "    </tr>\n",
       "  </thead>\n",
       "  <tbody>\n",
       "    <tr>\n",
       "      <th>0</th>\n",
       "      <td>To Kill a Mockingbird</td>\n",
       "      <td>/// gentle reminder that this is not the time ...</td>\n",
       "      <td>gentle reminder that this is not the time to r...</td>\n",
       "    </tr>\n",
       "    <tr>\n",
       "      <th>1</th>\n",
       "      <td>To Kill a Mockingbird</td>\n",
       "      <td>\\n|\\n|6.0 stars. I know I am risking a serious...</td>\n",
       "      <td>6.0 stars. i know i am risking a serious film ...</td>\n",
       "    </tr>\n",
       "    <tr>\n",
       "      <th>2</th>\n",
       "      <td>To Kill a Mockingbird</td>\n",
       "      <td>\\n|\\n|Looking for a new book but don't want to...</td>\n",
       "      <td>looking for a new book but do not want to comm...</td>\n",
       "    </tr>\n",
       "    <tr>\n",
       "      <th>3</th>\n",
       "      <td>To Kill a Mockingbird</td>\n",
       "      <td>Why is it when I pick up | To Kill A Mockingbi...</td>\n",
       "      <td>why is it when i pick up to kill a mockingbird...</td>\n",
       "    </tr>\n",
       "    <tr>\n",
       "      <th>4</th>\n",
       "      <td>To Kill a Mockingbird</td>\n",
       "      <td>I had a much longer review written for this bo...</td>\n",
       "      <td>i had a much longer review written for this bo...</td>\n",
       "    </tr>\n",
       "  </tbody>\n",
       "</table>\n",
       "</div>"
      ],
      "text/plain": [
       "                   title                                        review_text  \\\n",
       "0  To Kill a Mockingbird  /// gentle reminder that this is not the time ...   \n",
       "1  To Kill a Mockingbird  \\n|\\n|6.0 stars. I know I am risking a serious...   \n",
       "2  To Kill a Mockingbird  \\n|\\n|Looking for a new book but don't want to...   \n",
       "3  To Kill a Mockingbird  Why is it when I pick up | To Kill A Mockingbi...   \n",
       "4  To Kill a Mockingbird  I had a much longer review written for this bo...   \n",
       "\n",
       "                                      cleaned_review  \n",
       "0  gentle reminder that this is not the time to r...  \n",
       "1  6.0 stars. i know i am risking a serious film ...  \n",
       "2  looking for a new book but do not want to comm...  \n",
       "3  why is it when i pick up to kill a mockingbird...  \n",
       "4  i had a much longer review written for this bo...  "
      ]
     },
     "execution_count": 173,
     "metadata": {},
     "output_type": "execute_result"
    }
   ],
   "source": [
    "df = pd.read_csv(\"for_testing.csv\")\n",
    "\n",
    "df.head()"
   ]
  },
  {
   "cell_type": "code",
   "execution_count": 174,
   "metadata": {},
   "outputs": [],
   "source": [
    "import pandas as pd\n",
    "from openai import OpenAI\n",
    "import os\n",
    "from dotenv import load_dotenv\n",
    "\n",
    "load_dotenv()\n",
    "openai_api_key = os.getenv('OPENAI_API_KEY')\n",
    "\n",
    "client = OpenAI(api_key = openai_api_key)\n",
    "\n",
    "cost_per_1k_tokens = 0.002  # Adjust based on the OpenAI pricing for GPT-4o-mini\n",
    "\n",
    "total_tokens_used = 0\n",
    "total_cost = 0.0\n",
    "\n",
    "def estimate_cost(tokens_used):\n",
    "    return (tokens_used / 1000) * cost_per_1k_tokens\n",
    "\n",
    "def extract_review_aspects(review):\n",
    "    global total_tokens_used\n",
    "    global total_cost\n",
    "\n",
    "    prompt = f\"\"\"\n",
    "    Analyze the following book review and extract the unique and nuanced aspects of the book that the reader particularly commented on.\n",
    "    \n",
    "    Instead of predefined categories like 'Character Development' or 'World-building,' focus on specific insights the reviewer expresses. These should be framed in an organic way, capturing how the reviewer experienced and articulated their enjoyment of the book.\n",
    "\n",
    "    Instructions:\n",
    "    - Extract around 5 key aspects.\n",
    "    - Do NOT use generic terms like \"intricate plot twists\" or \"emotional depth.\"\n",
    "    - Instead, identify book-specific observations (e.g., \"Kaz Brekker’s morally ambiguous leadership\" instead of \"complex characters\").\n",
    "    - Capture distinctive stylistic elements, unusual themes, and memorable storytelling choices.\n",
    "    - Use the reviewer's own language where possible.\n",
    "    - Format the response as a valid JSON object where:\n",
    "      - Each key is a brief descriptive insight (max 5 words).\n",
    "      - Each value is an object containing:\n",
    "        - `\"explanation\"`: A 1-2 sentence explanation based on the review’s language.\n",
    "\n",
    "    Example Output (JSON format):\n",
    "      ```json\n",
    "      {{\n",
    "        \"Grisha magic and political tension\": {{\n",
    "          \"explanation\": \"The reviewer describes the unique magic system intertwined with high-stakes political intrigue, making the world feel immersive and dangerous.\"\n",
    "        }},\n",
    "        \"Unexpectedly humorous narration\": {{\n",
    "          \"explanation\": \"The book’s witty and ironic tone added levity, contrasting well with its serious themes.\"\n",
    "        }},\n",
    "        \"Ambiguous moral dilemmas\": {{\n",
    "          \"explanation\": \"The novel presents ethical conflicts without clear resolutions, prompting deep reflection from the reader.\"\n",
    "        }}\n",
    "      }}\n",
    "\n",
    "    Book Review:\n",
    "    \"{review}\"\n",
    "    \"\"\"\n",
    "\n",
    "    print(prompt)\n",
    "    # print(review)\n",
    "\n",
    "    response = client.chat.completions.create(\n",
    "        model=\"gpt-4o-mini\",\n",
    "        messages=[{\"role\": \"user\", \"content\": prompt}],\n",
    "        temperature=0.7\n",
    "    )\n",
    "    response_text = response.choices[0].message.content\n",
    "    tokens_used = response.usage.total_tokens\n",
    "    total_tokens_used += tokens_used\n",
    "    total_cost += estimate_cost(tokens_used)\n",
    "    return response_text\n"
   ]
  },
  {
   "cell_type": "code",
   "execution_count": null,
   "metadata": {},
   "outputs": [],
   "source": [
    "from tqdm import tqdm\n",
    "\n",
    "tqdm.pandas()\n",
    "\n",
    "df['review_aspects'] = df['cleaned_review'].progress_apply(extract_review_aspects)\n",
    "\n",
    "# Save to CSV\n",
    "df.to_csv(\"extracted_review_aspects.csv\", index=False)\n",
    "\n",
    "# Print cost summary\n",
    "print(f\"Total Tokens Used: {total_tokens_used}\")\n",
    "print(f\"Estimated Total Cost: ${total_cost:.4f}\")"
   ]
  },
  {
   "cell_type": "code",
   "execution_count": 236,
   "metadata": {},
   "outputs": [],
   "source": [
    "df_check = pd.read_csv(\"extracted_review_aspects.csv\")\n",
    "\n",
    "# df_check.head()"
   ]
  },
  {
   "cell_type": "code",
   "execution_count": 5,
   "metadata": {},
   "outputs": [
    {
     "ename": "NameError",
     "evalue": "name 'df_check' is not defined",
     "output_type": "error",
     "traceback": [
      "\u001b[0;31m---------------------------------------------------------------------------\u001b[0m",
      "\u001b[0;31mNameError\u001b[0m                                 Traceback (most recent call last)",
      "Cell \u001b[0;32mIn[5], line 27\u001b[0m\n\u001b[1;32m     24\u001b[0m         \u001b[38;5;28mprint\u001b[39m(\u001b[38;5;124mf\u001b[39m\u001b[38;5;124m\"\u001b[39m\u001b[38;5;124m🔍 Problematic JSON Snippet: \u001b[39m\u001b[38;5;132;01m{\u001b[39;00mtext[:\u001b[38;5;241m500\u001b[39m]\u001b[38;5;132;01m}\u001b[39;00m\u001b[38;5;124m...\u001b[39m\u001b[38;5;130;01m\\n\u001b[39;00m\u001b[38;5;124m\"\u001b[39m)  \u001b[38;5;66;03m# Show first 500 characters for debugging\u001b[39;00m\n\u001b[1;32m     26\u001b[0m \u001b[38;5;66;03m# Apply function to DataFrame\u001b[39;00m\n\u001b[0;32m---> 27\u001b[0m df_check[\u001b[38;5;124m'\u001b[39m\u001b[38;5;124mreview_aspects\u001b[39m\u001b[38;5;124m'\u001b[39m] \u001b[38;5;241m=\u001b[39m \u001b[43mdf_check\u001b[49m[\u001b[38;5;124m'\u001b[39m\u001b[38;5;124mreview_aspects\u001b[39m\u001b[38;5;124m'\u001b[39m]\u001b[38;5;241m.\u001b[39mapply(clean_and_convert_to_json)\n",
      "\u001b[0;31mNameError\u001b[0m: name 'df_check' is not defined"
     ]
    }
   ],
   "source": [
    "import json\n",
    "import re\n",
    "\n",
    "def clean_and_convert_to_json(text):\n",
    "    \"\"\"Fixes common JSON formatting issues before parsing, including missing closing braces.\"\"\"\n",
    "    if not isinstance(text, str) or text.strip() == \"\":\n",
    "        return None  # Ignore empty or non-string values\n",
    "\n",
    "    # Remove markdown formatting if present\n",
    "    text = text.strip().replace(\"```json\", \"\").replace(\"```\", \"\").replace(\"\\n\", \" \")\n",
    "\n",
    "    # Fix trailing commas before closing braces (`}`) and brackets (`]`)\n",
    "    text = re.sub(r\",\\s*}\", \"}\", text)  # Removes extra commas before }\n",
    "    text = re.sub(r\",\\s*\\]\", \"]\", text)  # Removes extra commas before ]\n",
    "\n",
    "    # Ensure JSON has a final closing brace if needed\n",
    "    if text.count(\"{\") > text.count(\"}\"):  # If more `{` than `}`, add missing `}`\n",
    "        text += \"}\"\n",
    "\n",
    "    try:\n",
    "        return json.loads(text)  # Try parsing JSON\n",
    "    except json.JSONDecodeError as e:\n",
    "        print(f\"❌ JSON Parsing Error: {e}\")\n",
    "        print(f\"🔍 Problematic JSON Snippet: {text[:500]}...\\n\")  # Show first 500 characters for debugging\n",
    "\n",
    "# Apply function to DataFrame\n",
    "df_check['review_aspects'] = df_check['review_aspects'].apply(clean_and_convert_to_json)\n"
   ]
  },
  {
   "cell_type": "code",
   "execution_count": 238,
   "metadata": {},
   "outputs": [
    {
     "data": {
      "text/html": [
       "<div>\n",
       "<style scoped>\n",
       "    .dataframe tbody tr th:only-of-type {\n",
       "        vertical-align: middle;\n",
       "    }\n",
       "\n",
       "    .dataframe tbody tr th {\n",
       "        vertical-align: top;\n",
       "    }\n",
       "\n",
       "    .dataframe thead th {\n",
       "        text-align: right;\n",
       "    }\n",
       "</style>\n",
       "<table border=\"1\" class=\"dataframe\">\n",
       "  <thead>\n",
       "    <tr style=\"text-align: right;\">\n",
       "      <th></th>\n",
       "      <th>title</th>\n",
       "      <th>review_text</th>\n",
       "      <th>cleaned_review</th>\n",
       "      <th>review_aspects</th>\n",
       "    </tr>\n",
       "  </thead>\n",
       "  <tbody>\n",
       "    <tr>\n",
       "      <th>0</th>\n",
       "      <td>To Kill a Mockingbird</td>\n",
       "      <td>/// gentle reminder that this is not the time ...</td>\n",
       "      <td>gentle reminder that this is not the time to r...</td>\n",
       "      <td>{'White perspective on race relations': {'expl...</td>\n",
       "    </tr>\n",
       "    <tr>\n",
       "      <th>1</th>\n",
       "      <td>To Kill a Mockingbird</td>\n",
       "      <td>\\n|\\n|6.0 stars. I know I am risking a serious...</td>\n",
       "      <td>6.0 stars. i know i am risking a serious film ...</td>\n",
       "      <td>{'Atticus Finch's moral integrity': {'explanat...</td>\n",
       "    </tr>\n",
       "    <tr>\n",
       "      <th>2</th>\n",
       "      <td>To Kill a Mockingbird</td>\n",
       "      <td>\\n|\\n|Looking for a new book but don't want to...</td>\n",
       "      <td>looking for a new book but do not want to comm...</td>\n",
       "      <td>{'Rethinking childhood interpretations': {'exp...</td>\n",
       "    </tr>\n",
       "    <tr>\n",
       "      <th>3</th>\n",
       "      <td>To Kill a Mockingbird</td>\n",
       "      <td>Why is it when I pick up | To Kill A Mockingbi...</td>\n",
       "      <td>why is it when i pick up to kill a mockingbird...</td>\n",
       "      <td>{'Sensory nostalgia of childhood': {'explanati...</td>\n",
       "    </tr>\n",
       "    <tr>\n",
       "      <th>4</th>\n",
       "      <td>To Kill a Mockingbird</td>\n",
       "      <td>I had a much longer review written for this bo...</td>\n",
       "      <td>i had a much longer review written for this bo...</td>\n",
       "      <td>{'Boredom with narrative pacing': {'explanatio...</td>\n",
       "    </tr>\n",
       "  </tbody>\n",
       "</table>\n",
       "</div>"
      ],
      "text/plain": [
       "                   title                                        review_text  \\\n",
       "0  To Kill a Mockingbird  /// gentle reminder that this is not the time ...   \n",
       "1  To Kill a Mockingbird  \\n|\\n|6.0 stars. I know I am risking a serious...   \n",
       "2  To Kill a Mockingbird  \\n|\\n|Looking for a new book but don't want to...   \n",
       "3  To Kill a Mockingbird  Why is it when I pick up | To Kill A Mockingbi...   \n",
       "4  To Kill a Mockingbird  I had a much longer review written for this bo...   \n",
       "\n",
       "                                      cleaned_review  \\\n",
       "0  gentle reminder that this is not the time to r...   \n",
       "1  6.0 stars. i know i am risking a serious film ...   \n",
       "2  looking for a new book but do not want to comm...   \n",
       "3  why is it when i pick up to kill a mockingbird...   \n",
       "4  i had a much longer review written for this bo...   \n",
       "\n",
       "                                      review_aspects  \n",
       "0  {'White perspective on race relations': {'expl...  \n",
       "1  {'Atticus Finch's moral integrity': {'explanat...  \n",
       "2  {'Rethinking childhood interpretations': {'exp...  \n",
       "3  {'Sensory nostalgia of childhood': {'explanati...  \n",
       "4  {'Boredom with narrative pacing': {'explanatio...  "
      ]
     },
     "execution_count": 238,
     "metadata": {},
     "output_type": "execute_result"
    }
   ],
   "source": [
    "df_check.head()"
   ]
  },
  {
   "cell_type": "markdown",
   "metadata": {},
   "source": [
    "test with vader"
   ]
  },
  {
   "cell_type": "code",
   "execution_count": 58,
   "metadata": {},
   "outputs": [
    {
     "name": "stderr",
     "output_type": "stream",
     "text": [
      "[nltk_data] Downloading package vader_lexicon to\n",
      "[nltk_data]     /home/kayweeee/nltk_data...\n",
      "[nltk_data]   Package vader_lexicon is already up-to-date!\n"
     ]
    }
   ],
   "source": [
    "import pandas as pd\n",
    "import nltk\n",
    "from nltk.sentiment import SentimentIntensityAnalyzer\n",
    "import json\n",
    "nltk.download('vader_lexicon')\n",
    "\n",
    "sia = SentimentIntensityAnalyzer()\n",
    "\n",
    "\n",
    "def classify_sentiment(text):\n",
    "    sentiment_score = sia.polarity_scores(text)[\"compound\"]\n",
    "    if sentiment_score >= 0.05:\n",
    "        return \"positive\"\n",
    "    elif sentiment_score <= -0.05:\n",
    "        return \"negative\"\n",
    "    else:\n",
    "        return \"neutral/mixed\"\n",
    "\n",
    "# Apply sentiment analysis to each aspect in the dataset\n",
    "def apply_sentiment_analysis(review_aspects):\n",
    "    for aspect, details in review_aspects.items():\n",
    "        explanation = details[\"explanation\"]\n",
    "        sentiment = classify_sentiment(explanation)\n",
    "        review_aspects[aspect][\"sentiment\"] = sentiment\n",
    "    return json.dumps(review_aspects, indent=2)  # Convert back to string for DataFrame storage\n",
    "\n",
    "# Apply function to each row\n",
    "test_df[\"review_aspects_with_sentiment\"] = test_df[\"review_aspects\"].apply(apply_sentiment_analysis)\n"
   ]
  },
  {
   "cell_type": "code",
   "execution_count": 64,
   "metadata": {},
   "outputs": [],
   "source": [
    "from textblob import TextBlob\n",
    "\n",
    "# Function to classify sentiment using TextBlob\n",
    "def classify_sentiment_textblob(text):\n",
    "    sentiment_score = TextBlob(text).sentiment.polarity\n",
    "    if sentiment_score > 0:\n",
    "        return \"positive\"\n",
    "    elif sentiment_score < 0:\n",
    "        return \"negative\"\n",
    "    else:\n",
    "        return \"neutral/mixed\"\n",
    "\n",
    "# Apply sentiment analysis using TextBlob\n",
    "def apply_sentiment_analysis_textblob(review_aspects):\n",
    "    for aspect, details in review_aspects.items():\n",
    "        explanation = details[\"explanation\"]\n",
    "        sentiment = classify_sentiment_textblob(explanation)\n",
    "        review_aspects[aspect][\"sentiment\"] = sentiment\n",
    "    return json.dumps(review_aspects, indent=2)  # Convert back to string for DataFrame storage\n",
    "\n",
    "# Apply function to each row\n",
    "test_df[\"review_aspects_with_sentiment\"] = test_df[\"review_aspects\"].apply(apply_sentiment_analysis_textblob)\n"
   ]
  },
  {
   "cell_type": "code",
   "execution_count": 80,
   "metadata": {},
   "outputs": [],
   "source": [
    "test_df.to_csv(\"sentiment_analysis_using_textblob.csv\", index=False)"
   ]
  },
  {
   "cell_type": "markdown",
   "metadata": {},
   "source": [
    "## Book Level Aspects"
   ]
  },
  {
   "cell_type": "code",
   "execution_count": 240,
   "metadata": {},
   "outputs": [
    {
     "data": {
      "text/html": [
       "<div>\n",
       "<style scoped>\n",
       "    .dataframe tbody tr th:only-of-type {\n",
       "        vertical-align: middle;\n",
       "    }\n",
       "\n",
       "    .dataframe tbody tr th {\n",
       "        vertical-align: top;\n",
       "    }\n",
       "\n",
       "    .dataframe thead th {\n",
       "        text-align: right;\n",
       "    }\n",
       "</style>\n",
       "<table border=\"1\" class=\"dataframe\">\n",
       "  <thead>\n",
       "    <tr style=\"text-align: right;\">\n",
       "      <th></th>\n",
       "      <th>title</th>\n",
       "      <th>review_aspects</th>\n",
       "    </tr>\n",
       "  </thead>\n",
       "  <tbody>\n",
       "    <tr>\n",
       "      <th>0</th>\n",
       "      <td>1984</td>\n",
       "      <td>[{'Dystopian world as a character': {'explanat...</td>\n",
       "    </tr>\n",
       "    <tr>\n",
       "      <th>1</th>\n",
       "      <td>Animal Farm</td>\n",
       "      <td>[{'Orwellian themes in modern context': {'expl...</td>\n",
       "    </tr>\n",
       "    <tr>\n",
       "      <th>2</th>\n",
       "      <td>Jane Eyre</td>\n",
       "      <td>[{'Feminist perspective on Jane Eyre': {'expla...</td>\n",
       "    </tr>\n",
       "    <tr>\n",
       "      <th>3</th>\n",
       "      <td>The Catcher in the Rye</td>\n",
       "      <td>[{'Evolution of personal connection': {'explan...</td>\n",
       "    </tr>\n",
       "    <tr>\n",
       "      <th>4</th>\n",
       "      <td>To Kill a Mockingbird</td>\n",
       "      <td>[{'White perspective on race relations': {'exp...</td>\n",
       "    </tr>\n",
       "  </tbody>\n",
       "</table>\n",
       "</div>"
      ],
      "text/plain": [
       "                    title                                     review_aspects\n",
       "0                    1984  [{'Dystopian world as a character': {'explanat...\n",
       "1             Animal Farm  [{'Orwellian themes in modern context': {'expl...\n",
       "2               Jane Eyre  [{'Feminist perspective on Jane Eyre': {'expla...\n",
       "3  The Catcher in the Rye  [{'Evolution of personal connection': {'explan...\n",
       "4   To Kill a Mockingbird  [{'White perspective on race relations': {'exp..."
      ]
     },
     "execution_count": 240,
     "metadata": {},
     "output_type": "execute_result"
    }
   ],
   "source": [
    "df_books = df_check.groupby('title')['review_aspects'].apply(list).reset_index()\n",
    "\n",
    "df_books.head()\n"
   ]
  },
  {
   "cell_type": "code",
   "execution_count": 244,
   "metadata": {},
   "outputs": [
    {
     "name": "stderr",
     "output_type": "stream",
     "text": [
      "100%|██████████| 5/5 [01:14<00:00, 14.84s/it]\n"
     ]
    }
   ],
   "source": [
    "from openai import OpenAI\n",
    "\n",
    "from dotenv import load_dotenv\n",
    "\n",
    "load_dotenv()\n",
    "openai_api_key = os.getenv('OPENAI_API_KEY')\n",
    "\n",
    "client = OpenAI(api_key = openai_api_key)\n",
    "\n",
    "# Function to extract book-level aspects using LLM\n",
    "def extract_book_level_aspects(review_aspects_list):\n",
    "    if isinstance(review_aspects_list, list):  \n",
    "        review_aspects_list = json.dumps(review_aspects_list, indent=2)  # Convert list to JSON\n",
    "    \n",
    "    prompt = f\"\"\"\n",
    "    The following is a collection of review-level aspects extracted from multiple reviews of the same book. \n",
    "    Identify and summarize the most significant and recurring themes, insights, or unique elements that define this book as a whole.\n",
    "    \n",
    "    Instructions:\n",
    "    - Consolidate similar aspects into broader book-level insights.\n",
    "    - Focus on the most mentioned, impactful and unique insights.\n",
    "    - Determine the general sentiment of each aspect by analyzing how it was described across reviews.\n",
    "    - If an aspect has a mixed reception, reflect that in the summary.\n",
    "    - Count how many reviews mention each aspect, and include that in the final output.\n",
    "\n",
    "    - Return the result as a JSON object where:\n",
    "      - Each key is a concise, descriptive book-level insight (no more than 5 words).\n",
    "      - Each value is an object with:\n",
    "        - `\"explanation\"`: A 1-2 sentence explanation, summarizing the aspect across all reviews.\n",
    "        - `\"sentiment\"`: The general sentiment of the aspect (\"positive\", \"negative\", or \"mixed\"), based on how it was perceived in the reviews.\n",
    "        - `\"mention_count\"`: The number of reviews that mentioned this aspect.\n",
    "\n",
    "    \n",
    "    Review-Level Aspects:\n",
    "    {review_aspects_list}    \n",
    "\n",
    "    ```json\n",
    "    {{\n",
    "      \"Complex Political Themes\": {{\n",
    "        \"explanation\": \"The book explores intricate political themes, drawing parallels to real-world authoritarian regimes and control mechanisms.\",\n",
    "        \"sentiment\": \"positive\",\n",
    "        \"mention_count\": 12\n",
    "      }},\n",
    "      \"Character Development\": {{\n",
    "        \"explanation\": \"The protagonist's psychological depth and internal conflicts were widely appreciated, though a few readers found certain character arcs underdeveloped.\",\n",
    "        \"sentiment\": \"positive\",\n",
    "        \"mention_count\": 15\n",
    "      }}\n",
    "    }}\n",
    "    ```\n",
    "    \"\"\"\n",
    "\n",
    "    response = client.chat.completions.create(\n",
    "        model=\"gpt-4o-mini\",\n",
    "        messages=[{\"role\": \"user\", \"content\": prompt}],\n",
    "        temperature=0.7\n",
    "    )\n",
    "    response_text = response.choices[0].message.content\n",
    "\n",
    "    return response_text\n",
    "\n",
    "test_text = df_books['review_aspects'].iloc[0]\n",
    "\n",
    "# print(test_text)\n",
    "# res = extract_book_level_aspects(test_text)\n",
    "\n",
    "# print(res)\n",
    "# Apply function to extract book-level aspects\n",
    "df_books['book_aspects'] = df_books['review_aspects'].progress_apply(extract_book_level_aspects)\n",
    "df_books.to_csv('book_aspects.csv', index=False)"
   ]
  },
  {
   "cell_type": "markdown",
   "metadata": {},
   "source": [
    "Separate the json into columns"
   ]
  },
  {
   "cell_type": "code",
   "execution_count": 246,
   "metadata": {},
   "outputs": [],
   "source": [
    "df_books = pd.read_csv('book_aspects.csv')"
   ]
  },
  {
   "cell_type": "code",
   "execution_count": 252,
   "metadata": {},
   "outputs": [],
   "source": [
    "def parse_book_aspects(df_books):\n",
    "    \"\"\"\n",
    "    Parses the LLM-generated book-level aspects and structures them into a DataFrame.\n",
    "\n",
    "    Args:\n",
    "        df_books (pd.DataFrame): DataFrame with book title, review aspects, and LLM-generated book aspects.\n",
    "\n",
    "    Returns:\n",
    "        pd.DataFrame: A structured DataFrame with parsed book-level aspects.\n",
    "    \"\"\"\n",
    "    parsed_data = []\n",
    "\n",
    "    for _, row in df_books.iterrows():\n",
    "        title = row[\"title\"] \n",
    "        review_aspects = row[\"review_aspects\"] \n",
    "\n",
    "        book_aspects = clean_and_convert_to_json(row[\"book_aspects\"]) \n",
    "    \n",
    "\n",
    "        for aspect, details in book_aspects.items():\n",
    "            parsed_data.append({\n",
    "                \"title\": title,\n",
    "                \"review_aspects\": review_aspects,\n",
    "                \"book_aspect\": aspect,\n",
    "                \"book_aspect_explanation\": details.get(\"explanation\", \"\"),\n",
    "                \"book_aspect_sentiment\": details.get(\"sentiment\", \"neutral\"),\n",
    "                \"book_aspect_mention_count\": details.get(\"mention_count\", 0),\n",
    "                \"aspect_embedding\": get_embedding(aspect)\n",
    "            })\n",
    "\n",
    "    return pd.DataFrame(parsed_data)\n",
    "\n",
    "def get_embedding(text):\n",
    "    text = text.lower()\n",
    "    response = client.embeddings.create(\n",
    "        model=\"text-embedding-ada-002\",\n",
    "        input=text\n",
    "    )\n",
    "    return response.data[0].embedding\n",
    "\n",
    "df_parsed_aspects = parse_book_aspects(df_books)\n",
    "\n",
    "df_parsed_aspects.to_csv('book_aspects_table.csv', index=False)\n"
   ]
  },
  {
   "cell_type": "markdown",
   "metadata": {},
   "source": [
    "Creating book table (which has book metadata)"
   ]
  },
  {
   "cell_type": "code",
   "execution_count": 11,
   "metadata": {},
   "outputs": [
    {
     "data": {
      "text/html": [
       "<div>\n",
       "<style scoped>\n",
       "    .dataframe tbody tr th:only-of-type {\n",
       "        vertical-align: middle;\n",
       "    }\n",
       "\n",
       "    .dataframe tbody tr th {\n",
       "        vertical-align: top;\n",
       "    }\n",
       "\n",
       "    .dataframe thead th {\n",
       "        text-align: right;\n",
       "    }\n",
       "</style>\n",
       "<table border=\"1\" class=\"dataframe\">\n",
       "  <thead>\n",
       "    <tr style=\"text-align: right;\">\n",
       "      <th></th>\n",
       "      <th>title</th>\n",
       "      <th>review_aspects</th>\n",
       "      <th>book_aspects</th>\n",
       "    </tr>\n",
       "  </thead>\n",
       "  <tbody>\n",
       "    <tr>\n",
       "      <th>0</th>\n",
       "      <td>1984</td>\n",
       "      <td>[{'Dystopian world as a character': {'explanat...</td>\n",
       "      <td>```json\\n{\\n  \"Dystopian Worldbuilding\": {\\n  ...</td>\n",
       "    </tr>\n",
       "    <tr>\n",
       "      <th>1</th>\n",
       "      <td>Animal Farm</td>\n",
       "      <td>[{'Orwellian themes in modern context': {'expl...</td>\n",
       "      <td>```json\\n{\\n  \"Relevance of Orwellian Themes\":...</td>\n",
       "    </tr>\n",
       "    <tr>\n",
       "      <th>2</th>\n",
       "      <td>Jane Eyre</td>\n",
       "      <td>[{'Feminist perspective on Jane Eyre': {'expla...</td>\n",
       "      <td>```json\\n{\\n  \"Feminist Themes and Perspective...</td>\n",
       "    </tr>\n",
       "    <tr>\n",
       "      <th>3</th>\n",
       "      <td>The Catcher in the Rye</td>\n",
       "      <td>[{'Evolution of personal connection': {'explan...</td>\n",
       "      <td>```json\\n{\\n  \"Evolving Perspectives on Holden...</td>\n",
       "    </tr>\n",
       "    <tr>\n",
       "      <th>4</th>\n",
       "      <td>To Kill a Mockingbird</td>\n",
       "      <td>[{'White perspective on race relations': {'exp...</td>\n",
       "      <td>```json\\n{\\n  \"Racial Dynamics and Injustice\":...</td>\n",
       "    </tr>\n",
       "  </tbody>\n",
       "</table>\n",
       "</div>"
      ],
      "text/plain": [
       "                    title                                     review_aspects  \\\n",
       "0                    1984  [{'Dystopian world as a character': {'explanat...   \n",
       "1             Animal Farm  [{'Orwellian themes in modern context': {'expl...   \n",
       "2               Jane Eyre  [{'Feminist perspective on Jane Eyre': {'expla...   \n",
       "3  The Catcher in the Rye  [{'Evolution of personal connection': {'explan...   \n",
       "4   To Kill a Mockingbird  [{'White perspective on race relations': {'exp...   \n",
       "\n",
       "                                        book_aspects  \n",
       "0  ```json\\n{\\n  \"Dystopian Worldbuilding\": {\\n  ...  \n",
       "1  ```json\\n{\\n  \"Relevance of Orwellian Themes\":...  \n",
       "2  ```json\\n{\\n  \"Feminist Themes and Perspective...  \n",
       "3  ```json\\n{\\n  \"Evolving Perspectives on Holden...  \n",
       "4  ```json\\n{\\n  \"Racial Dynamics and Injustice\":...  "
      ]
     },
     "execution_count": 11,
     "metadata": {},
     "output_type": "execute_result"
    }
   ],
   "source": [
    "import pandas as pd\n",
    "df_books = pd.read_csv('book_aspects.csv')\n",
    "\n",
    "df_books.head()"
   ]
  },
  {
   "cell_type": "code",
   "execution_count": 14,
   "metadata": {},
   "outputs": [],
   "source": [
    "import os\n",
    "import requests\n",
    "from dotenv import load_dotenv\n",
    "\n",
    "load_dotenv()\n",
    "google_books_api_key = os.getenv('GOOGLE_BOOKS_API_KEY')\n",
    "\n",
    "# Function to fetch book details from Google Books API with improved filtering\n",
    "def fetch_book_details(title):\n",
    "    url = f\"https://www.googleapis.com/books/v1/volumes?q=intitle:{title}&key={google_books_api_key}\"\n",
    "    response = requests.get(url)\n",
    "    data = response.json()\n",
    "\n",
    "    if not data.get(\"items\"):\n",
    "        return {\n",
    "            \"title\": title,\n",
    "            \"authors\": [\"Unknown\"],\n",
    "            \"summary\": \"No details found\",\n",
    "            \"cover_image\": None,\n",
    "            \"average_rating\": None,\n",
    "            \"ratings_count\": None,\n",
    "        }\n",
    "\n",
    "    best_match = None\n",
    "\n",
    "    for book in data[\"items\"]:\n",
    "        volume_info = book[\"volumeInfo\"]\n",
    "        book_title = volume_info.get(\"title\", \"\").lower()\n",
    "\n",
    "        # Check if title is a close match (ignores case and minor differences)\n",
    "        if title.lower() == book_title:\n",
    "            if not best_match:\n",
    "                best_match = volume_info\n",
    "            else:\n",
    "                # Prefer book with more ratings (better public validation)\n",
    "                if volume_info.get(\"ratingsCount\", 0) > best_match.get(\"ratingsCount\", 0):\n",
    "                    best_match = volume_info\n",
    "                # If same rating count, prefer more recent editions\n",
    "                elif volume_info.get(\"ratingsCount\", 0) == best_match.get(\"ratingsCount\", 0):\n",
    "                    if volume_info.get(\"publishedDate\", \"0\") > best_match.get(\"publishedDate\", \"0\"):\n",
    "                        best_match = volume_info\n",
    "\n",
    "    if not best_match:\n",
    "        return {\n",
    "            \"title\": title,\n",
    "            \"authors\": [\"Unknown\"],\n",
    "            \"summary\": \"No details found\",\n",
    "            \"cover_image\": None,\n",
    "            \"average_rating\": None,\n",
    "            \"ratings_count\": None,\n",
    "        }\n",
    "\n",
    "    return {\n",
    "        \"title\": best_match.get(\"title\", title),\n",
    "        \"authors\": best_match.get(\"authors\", [\"Unknown\"]),\n",
    "        \"summary\": best_match.get(\"description\", \"No summary available\"),\n",
    "        \"cover_image\": best_match.get(\"imageLinks\", {}).get(\"thumbnail\", None),\n",
    "        \"average_rating\": best_match.get(\"averageRating\", None),\n",
    "        \"ratings_count\": best_match.get(\"ratingsCount\", None),\n",
    "    }\n"
   ]
  },
  {
   "cell_type": "code",
   "execution_count": 15,
   "metadata": {},
   "outputs": [
    {
     "name": "stderr",
     "output_type": "stream",
     "text": [
      "Fetching book metadata: 100%|██████████| 5/5 [00:02<00:00,  1.91it/s]\n"
     ]
    }
   ],
   "source": [
    "from tqdm import tqdm  # For progress tracking\n",
    "\n",
    "book_metadata = []\n",
    "for title in tqdm(df_books[\"title\"], desc=\"Fetching book metadata\"):\n",
    "    details = fetch_book_details(title)\n",
    "    book_metadata.append(details)"
   ]
  },
  {
   "cell_type": "code",
   "execution_count": 16,
   "metadata": {},
   "outputs": [
    {
     "data": {
      "text/html": [
       "<div>\n",
       "<style scoped>\n",
       "    .dataframe tbody tr th:only-of-type {\n",
       "        vertical-align: middle;\n",
       "    }\n",
       "\n",
       "    .dataframe tbody tr th {\n",
       "        vertical-align: top;\n",
       "    }\n",
       "\n",
       "    .dataframe thead th {\n",
       "        text-align: right;\n",
       "    }\n",
       "</style>\n",
       "<table border=\"1\" class=\"dataframe\">\n",
       "  <thead>\n",
       "    <tr style=\"text-align: right;\">\n",
       "      <th></th>\n",
       "      <th>title</th>\n",
       "      <th>authors</th>\n",
       "      <th>summary</th>\n",
       "      <th>cover_image</th>\n",
       "      <th>average_rating</th>\n",
       "      <th>ratings_count</th>\n",
       "      <th>review_aspects</th>\n",
       "    </tr>\n",
       "  </thead>\n",
       "  <tbody>\n",
       "    <tr>\n",
       "      <th>0</th>\n",
       "      <td>1984</td>\n",
       "      <td>[George Orwell]</td>\n",
       "      <td>It is 1984. The world is in a state of perpetu...</td>\n",
       "      <td>http://books.google.com/books/content?id=Ku0wE...</td>\n",
       "      <td>4.0</td>\n",
       "      <td>64</td>\n",
       "      <td>[{'Dystopian world as a character': {'explanat...</td>\n",
       "    </tr>\n",
       "    <tr>\n",
       "      <th>1</th>\n",
       "      <td>Animal Farm</td>\n",
       "      <td>[George Orwell]</td>\n",
       "      <td>George Orwell was a much-respected English nov...</td>\n",
       "      <td>http://books.google.com/books/content?id=tJf8D...</td>\n",
       "      <td>5.0</td>\n",
       "      <td>1</td>\n",
       "      <td>[{'Orwellian themes in modern context': {'expl...</td>\n",
       "    </tr>\n",
       "    <tr>\n",
       "      <th>2</th>\n",
       "      <td>Jane Eyre</td>\n",
       "      <td>[Charlotte Brontë]</td>\n",
       "      <td>Bronte’s novel about a shy, quiet governess wh...</td>\n",
       "      <td>http://books.google.com/books/content?id=lSMGA...</td>\n",
       "      <td>4.5</td>\n",
       "      <td>159</td>\n",
       "      <td>[{'Feminist perspective on Jane Eyre': {'expla...</td>\n",
       "    </tr>\n",
       "    <tr>\n",
       "      <th>3</th>\n",
       "      <td>The Catcher in the Rye</td>\n",
       "      <td>[Jerome David Salinger]</td>\n",
       "      <td>J. D. Salinger wrote one of the most famous bo...</td>\n",
       "      <td>http://books.google.com/books/content?id=PCDen...</td>\n",
       "      <td>2.5</td>\n",
       "      <td>2</td>\n",
       "      <td>[{'Evolution of personal connection': {'explan...</td>\n",
       "    </tr>\n",
       "    <tr>\n",
       "      <th>4</th>\n",
       "      <td>To Kill a Mockingbird</td>\n",
       "      <td>[Harper Lee]</td>\n",
       "      <td>Harper Lee's classic novel of a lawyer in the ...</td>\n",
       "      <td>http://books.google.com/books/content?id=DRagK...</td>\n",
       "      <td>5.0</td>\n",
       "      <td>1</td>\n",
       "      <td>[{'White perspective on race relations': {'exp...</td>\n",
       "    </tr>\n",
       "  </tbody>\n",
       "</table>\n",
       "</div>"
      ],
      "text/plain": [
       "                    title                  authors  \\\n",
       "0                    1984          [George Orwell]   \n",
       "1             Animal Farm          [George Orwell]   \n",
       "2               Jane Eyre       [Charlotte Brontë]   \n",
       "3  The Catcher in the Rye  [Jerome David Salinger]   \n",
       "4   To Kill a Mockingbird             [Harper Lee]   \n",
       "\n",
       "                                             summary  \\\n",
       "0  It is 1984. The world is in a state of perpetu...   \n",
       "1  George Orwell was a much-respected English nov...   \n",
       "2  Bronte’s novel about a shy, quiet governess wh...   \n",
       "3  J. D. Salinger wrote one of the most famous bo...   \n",
       "4  Harper Lee's classic novel of a lawyer in the ...   \n",
       "\n",
       "                                         cover_image  average_rating  \\\n",
       "0  http://books.google.com/books/content?id=Ku0wE...             4.0   \n",
       "1  http://books.google.com/books/content?id=tJf8D...             5.0   \n",
       "2  http://books.google.com/books/content?id=lSMGA...             4.5   \n",
       "3  http://books.google.com/books/content?id=PCDen...             2.5   \n",
       "4  http://books.google.com/books/content?id=DRagK...             5.0   \n",
       "\n",
       "   ratings_count                                     review_aspects  \n",
       "0             64  [{'Dystopian world as a character': {'explanat...  \n",
       "1              1  [{'Orwellian themes in modern context': {'expl...  \n",
       "2            159  [{'Feminist perspective on Jane Eyre': {'expla...  \n",
       "3              2  [{'Evolution of personal connection': {'explan...  \n",
       "4              1  [{'White perspective on race relations': {'exp...  "
      ]
     },
     "execution_count": 16,
     "metadata": {},
     "output_type": "execute_result"
    }
   ],
   "source": [
    "df_metadata = pd.DataFrame(book_metadata)\n",
    "\n",
    "# Display the first few rows of metadata\n",
    "df_metadata = pd.merge(df_metadata, df_books[['title', 'review_aspects']], on='title', how='left')\n",
    "df_metadata.head()\n"
   ]
  },
  {
   "cell_type": "code",
   "execution_count": 17,
   "metadata": {},
   "outputs": [],
   "source": [
    "df_metadata.to_csv('book_table.csv', index=False)"
   ]
  }
 ],
 "metadata": {
  "kernelspec": {
   "display_name": "venv",
   "language": "python",
   "name": "python3"
  },
  "language_info": {
   "codemirror_mode": {
    "name": "ipython",
    "version": 3
   },
   "file_extension": ".py",
   "mimetype": "text/x-python",
   "name": "python",
   "nbconvert_exporter": "python",
   "pygments_lexer": "ipython3",
   "version": "3.9.9"
  }
 },
 "nbformat": 4,
 "nbformat_minor": 2
}
